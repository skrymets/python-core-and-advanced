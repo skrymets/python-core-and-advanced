{
 "cells": [
  {
   "cell_type": "code",
   "execution_count": 6,
   "metadata": {},
   "outputs": [
    {
     "name": "stdout",
     "output_type": "stream",
     "text": [
      "b'<!doctype html>\\n<!--[if lt IE 7]>   <html class=\"no-js ie6 lt-ie7 lt-ie8 lt-ie9\">   <![endif]-->\\n<!-'\n"
     ]
    }
   ],
   "source": [
    "import urllib.request as rq\n",
    "\n",
    "## https://docs.python.org/3/library/urllib.request.html\n",
    "\n",
    "try:\n",
    "    http_response = rq.urlopen('https://www.python.org/about/gettingstarted/')\n",
    "    # read 100 bytes from the response\n",
    "    # https://docs.python.org/3/library/http.client.html#http.client.HTTPResponse\n",
    "    content = http_response.read(100)\n",
    "    \n",
    "except urllib.error.HTTPError as error:\n",
    "    print(error)\n",
    "\n",
    "print(content)"
   ]
  },
  {
   "cell_type": "code",
   "execution_count": null,
   "metadata": {},
   "outputs": [],
   "source": []
  }
 ],
 "metadata": {
  "kernelspec": {
   "display_name": "Python 3",
   "language": "python",
   "name": "python3"
  },
  "language_info": {
   "codemirror_mode": {
    "name": "ipython",
    "version": 3
   },
   "file_extension": ".py",
   "mimetype": "text/x-python",
   "name": "python",
   "nbconvert_exporter": "python",
   "pygments_lexer": "ipython3",
   "version": "3.7.0"
  }
 },
 "nbformat": 4,
 "nbformat_minor": 2
}
