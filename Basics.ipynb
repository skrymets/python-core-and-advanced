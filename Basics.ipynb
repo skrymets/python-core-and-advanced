{
 "cells": [
  {
   "cell_type": "markdown",
   "metadata": {},
   "source": [
    "## Hello World"
   ]
  },
  {
   "cell_type": "code",
   "execution_count": 1,
   "metadata": {},
   "outputs": [
    {
     "name": "stdout",
     "output_type": "stream",
     "text": [
      "Python is easy!\n"
     ]
    }
   ],
   "source": [
    "print('Python is easy!')"
   ]
  },
  {
   "cell_type": "markdown",
   "metadata": {},
   "source": [
    "## Comments and Documentation"
   ]
  },
  {
   "cell_type": "code",
   "execution_count": 2,
   "metadata": {},
   "outputs": [
    {
     "data": {
      "text/plain": [
       "5"
      ]
     },
     "execution_count": 2,
     "metadata": {},
     "output_type": "execute_result"
    }
   ],
   "source": [
    "# This is just a comment ant it will be ignored\n",
    "# If I want to make a multiline comment, than I just have to put '#' symbol on each new line  \n",
    "\n",
    "2 + 3"
   ]
  },
  {
   "cell_type": "code",
   "execution_count": 3,
   "metadata": {
    "scrolled": true
   },
   "outputs": [
    {
     "data": {
      "text/plain": [
       "'To document the code - a triple quotes either single or double are used \\nMoreover, such documentation may reside in multiple lines'"
      ]
     },
     "execution_count": 3,
     "metadata": {},
     "output_type": "execute_result"
    }
   ],
   "source": [
    "'''To document the code - a triple quotes either single or double are used \n",
    "Moreover, such documentation may reside in multiple lines'''"
   ]
  },
  {
   "cell_type": "code",
   "execution_count": 4,
   "metadata": {
    "scrolled": false
   },
   "outputs": [
    {
     "data": {
      "text/plain": [
       "'Double-quoted comment'"
      ]
     },
     "execution_count": 4,
     "metadata": {},
     "output_type": "execute_result"
    }
   ],
   "source": [
    "\"\"\"Double-quoted comment\"\"\""
   ]
  },
  {
   "cell_type": "markdown",
   "metadata": {},
   "source": [
    "## Assignments"
   ]
  },
  {
   "cell_type": "code",
   "execution_count": 5,
   "metadata": {},
   "outputs": [
    {
     "name": "stdout",
     "output_type": "stream",
     "text": [
      "1\n",
      "1 2 3\n",
      "a 6 1\n"
     ]
    }
   ],
   "source": [
    "# Single\n",
    "a = 1\n",
    "print(a)\n",
    "\n",
    "# Multiple\n",
    "a, b, c = 1, 2, 3\n",
    "print(a, b, c)\n",
    "\n",
    "a, b, c = ('a', 6, 0x0001)\n",
    "print(a, b, c)"
   ]
  },
  {
   "cell_type": "markdown",
   "metadata": {},
   "source": [
    "## Variable Types"
   ]
  },
  {
   "cell_type": "markdown",
   "metadata": {},
   "source": [
    "### Strings"
   ]
  },
  {
   "cell_type": "code",
   "execution_count": 6,
   "metadata": {},
   "outputs": [
    {
     "name": "stdout",
     "output_type": "stream",
     "text": [
      "<class 'str'>\n",
      "Text in single quotes\n",
      "The same but in doubles\n"
     ]
    }
   ],
   "source": [
    "s = \"Some text\"\n",
    "print(type(s))\n",
    "\n",
    "text = 'Text in single quotes'\n",
    "print(text)\n",
    "\n",
    "text = \"The same but in doubles\"\n",
    "print(text)"
   ]
  },
  {
   "cell_type": "code",
   "execution_count": 7,
   "metadata": {},
   "outputs": [
    {
     "data": {
      "text/plain": [
       "'This will be a string as well'"
      ]
     },
     "execution_count": 7,
     "metadata": {},
     "output_type": "execute_result"
    }
   ],
   "source": [
    "\"This\" \" will\" \" be\" ' a' ' string as well'"
   ]
  },
  {
   "cell_type": "code",
   "execution_count": 8,
   "metadata": {},
   "outputs": [
    {
     "name": "stdout",
     "output_type": "stream",
     "text": [
      "Hello, Sergii Superhero\n"
     ]
    }
   ],
   "source": [
    "text = \"Hello, {name} {lastname}\".format(lastname='Superhero', name='Sergii')\n",
    "print(text)"
   ]
  },
  {
   "cell_type": "code",
   "execution_count": 9,
   "metadata": {},
   "outputs": [
    {
     "name": "stdout",
     "output_type": "stream",
     "text": [
      "A multi-line string \n",
      "is defined in a few lines. \n",
      "Very useful!\n",
      "An arbitrary fragmant: \"mul\"\n"
     ]
    }
   ],
   "source": [
    "multi_line=\"\"\"A multi-line string \n",
    "is defined in a few lines. \n",
    "Very useful!\"\"\"\n",
    "\n",
    "print(multi_line)\n",
    "\n",
    "print(\"An arbitrary fragmant: \\\"{fragment}\\\"\".format(fragment=multi_line[2:5]))"
   ]
  },
  {
   "cell_type": "code",
   "execution_count": 10,
   "metadata": {},
   "outputs": [
    {
     "name": "stdout",
     "output_type": "stream",
     "text": [
      "61\n"
     ]
    }
   ],
   "source": [
    "print(len(multi_line))"
   ]
  },
  {
   "cell_type": "code",
   "execution_count": 4,
   "metadata": {},
   "outputs": [
    {
     "name": "stdout",
     "output_type": "stream",
     "text": [
      "abcabcabc\n"
     ]
    }
   ],
   "source": [
    "string_math = ('a' 'b' 'c')*3\n",
    "\n",
    "print(string_math)"
   ]
  },
  {
   "cell_type": "code",
   "execution_count": 7,
   "metadata": {},
   "outputs": [
    {
     "name": "stdout",
     "output_type": "stream",
     "text": [
      "True\n"
     ]
    }
   ],
   "source": [
    "text = 'Some text'\n",
    "\n",
    "if 'Some' in text:\n",
    "    print(True)"
   ]
  },
  {
   "cell_type": "code",
   "execution_count": 9,
   "metadata": {},
   "outputs": [
    {
     "name": "stdout",
     "output_type": "stream",
     "text": [
      "200\n"
     ]
    }
   ],
   "source": []
  },
  {
   "cell_type": "markdown",
   "metadata": {},
   "source": [
    "### Strings Slicing"
   ]
  },
  {
   "cell_type": "code",
   "execution_count": 12,
   "metadata": {},
   "outputs": [
    {
     "data": {
      "text/plain": [
       "'a'"
      ]
     },
     "execution_count": 12,
     "metadata": {},
     "output_type": "execute_result"
    }
   ],
   "source": [
    "'abcdefgh'[0]"
   ]
  },
  {
   "cell_type": "code",
   "execution_count": 13,
   "metadata": {},
   "outputs": [
    {
     "data": {
      "text/plain": [
       "'h'"
      ]
     },
     "execution_count": 13,
     "metadata": {},
     "output_type": "execute_result"
    }
   ],
   "source": [
    "'abcdefgh'[-1]"
   ]
  },
  {
   "cell_type": "code",
   "execution_count": 14,
   "metadata": {},
   "outputs": [
    {
     "data": {
      "text/plain": [
       "'abcdefgh'"
      ]
     },
     "execution_count": 14,
     "metadata": {},
     "output_type": "execute_result"
    }
   ],
   "source": [
    "'abcdefgh'[:]"
   ]
  },
  {
   "cell_type": "code",
   "execution_count": 15,
   "metadata": {},
   "outputs": [
    {
     "data": {
      "text/plain": [
       "'abcde'"
      ]
     },
     "execution_count": 15,
     "metadata": {},
     "output_type": "execute_result"
    }
   ],
   "source": [
    "'abcdefgh'[0:5]\n",
    "# See? There is no "
   ]
  },
  {
   "cell_type": "code",
   "execution_count": 16,
   "metadata": {},
   "outputs": [
    {
     "name": "stdout",
     "output_type": "stream",
     "text": [
      "with you Let the force will be \n"
     ]
    }
   ],
   "source": [
    "text = \"Let the force will be with you\"\n",
    "print(text[len(text) - 8:], text[:len(text) - 8])"
   ]
  },
  {
   "cell_type": "code",
   "execution_count": 17,
   "metadata": {},
   "outputs": [
    {
     "name": "stdout",
     "output_type": "stream",
     "text": [
      "Let the force will be with you\n",
      "Lttefrewl ewt o\n",
      "uoy htiw eb lliw ecrof eht teL\n",
      "uyhi bli co h e\n"
     ]
    }
   ],
   "source": [
    "text = \"Let the force will be with you\"\n",
    "print(text[0:len(text):1])\n",
    "print(text[::2])\n",
    "print(text[::-1])\n",
    "print(text[::-2])"
   ]
  },
  {
   "cell_type": "markdown",
   "metadata": {},
   "source": [
    "### Useful Functions"
   ]
  },
  {
   "cell_type": "code",
   "execution_count": 18,
   "metadata": {},
   "outputs": [
    {
     "name": "stdout",
     "output_type": "stream",
     "text": [
      "THIS STRING NOT ONLY CONTAINS UPPER CASE LETTERS AND SOME LOWER CASE AS WELL\n",
      "this string not only contains upper case letters and some lower case as well\n"
     ]
    }
   ],
   "source": [
    "text = \"THIS string {}CONTAINS upper CASE letters AND some LOWER case AS well\"\n",
    "print(text.format('do ' if text.isupper() else 'not only ').upper())\n",
    "print(text.format('do ' if text.islower() else 'not only ').lower())"
   ]
  },
  {
   "cell_type": "code",
   "execution_count": 19,
   "metadata": {},
   "outputs": [
    {
     "name": "stdout",
     "output_type": "stream",
     "text": [
      "Rmove all leading and trainling spaces: {} Text with a few spaces before and after\n",
      "Rmove only leading spaces: {} Text with a few spaces before and after  \t  \n",
      "Rmove only trainling spaces: {}  \t Text with a few spaces before and after\n"
     ]
    }
   ],
   "source": [
    "text = \" \\t Text with a few spaces before and after  \\t  \"\n",
    "\n",
    "print(\"Rmove all leading and trainling spaces: {}\", text.strip())\n",
    "print(\"Rmove only leading spaces: {}\", text.lstrip())\n",
    "print(\"Rmove only trainling spaces: {}\", text.rstrip())"
   ]
  },
  {
   "cell_type": "code",
   "execution_count": 20,
   "metadata": {},
   "outputs": [
    {
     "name": "stdout",
     "output_type": "stream",
     "text": [
      "4\n",
      "-1\n",
      "Can't find 'six' in the string: True\n",
      "0\n"
     ]
    }
   ],
   "source": [
    "text = \"One two three four five\"\n",
    "print(text.find('two'))\n",
    "print(text.find('six'))\n",
    "print(\"Can't find 'six' in the string: {can}\".format(can=text.find('six') == -1))\n",
    "\n",
    "print(text.lower().find('one', 0, 10))"
   ]
  },
  {
   "cell_type": "code",
   "execution_count": 21,
   "metadata": {},
   "outputs": [
    {
     "data": {
      "text/plain": [
       "'One minus two three four five'"
      ]
     },
     "execution_count": 21,
     "metadata": {},
     "output_type": "execute_result"
    }
   ],
   "source": [
    "text = \"One two three four five\"\n",
    "text.count('e')\n",
    "\n",
    "text.replace('two', 'minus two')"
   ]
  },
  {
   "cell_type": "markdown",
   "metadata": {},
   "source": [
    "### Other Simple Types"
   ]
  },
  {
   "cell_type": "code",
   "execution_count": 22,
   "metadata": {
    "scrolled": true
   },
   "outputs": [
    {
     "data": {
      "text/plain": [
       "int"
      ]
     },
     "execution_count": 22,
     "metadata": {},
     "output_type": "execute_result"
    }
   ],
   "source": [
    "a = 10\n",
    "type(a)"
   ]
  },
  {
   "cell_type": "code",
   "execution_count": 23,
   "metadata": {},
   "outputs": [
    {
     "data": {
      "text/plain": [
       "float"
      ]
     },
     "execution_count": 23,
     "metadata": {},
     "output_type": "execute_result"
    }
   ],
   "source": [
    "f = 10.23\n",
    "type(f)"
   ]
  },
  {
   "cell_type": "code",
   "execution_count": 24,
   "metadata": {},
   "outputs": [
    {
     "name": "stdout",
     "output_type": "stream",
     "text": [
      "<class 'str'>\n"
     ]
    }
   ],
   "source": [
    "c = chr(112)\n",
    "print(type(c))"
   ]
  },
  {
   "cell_type": "code",
   "execution_count": 25,
   "metadata": {},
   "outputs": [
    {
     "data": {
      "text/plain": [
       "NoneType"
      ]
     },
     "execution_count": 25,
     "metadata": {},
     "output_type": "execute_result"
    }
   ],
   "source": [
    "n = None\n",
    "type(n)"
   ]
  },
  {
   "cell_type": "code",
   "execution_count": 26,
   "metadata": {},
   "outputs": [
    {
     "name": "stdout",
     "output_type": "stream",
     "text": [
      "<class 'complex'> (3-2j)\n"
     ]
    }
   ],
   "source": [
    "c = 3 - 2j\n",
    "print(type(c), c)"
   ]
  },
  {
   "cell_type": "code",
   "execution_count": 27,
   "metadata": {},
   "outputs": [
    {
     "name": "stdout",
     "output_type": "stream",
     "text": [
      "<class 'int'> 7\n",
      "5\n"
     ]
    }
   ],
   "source": [
    "b1 = 0b00111\n",
    "print(type(b1), b1)\n",
    "\n",
    "b2 = 0b00101\n",
    "\n",
    "print(b1 & b2)"
   ]
  },
  {
   "cell_type": "code",
   "execution_count": 28,
   "metadata": {},
   "outputs": [
    {
     "name": "stdout",
     "output_type": "stream",
     "text": [
      "<class 'int'> 16777215\n"
     ]
    }
   ],
   "source": [
    "f = 0xFFFFFF\n",
    "print(type(f), f)"
   ]
  },
  {
   "cell_type": "code",
   "execution_count": 29,
   "metadata": {},
   "outputs": [
    {
     "name": "stdout",
     "output_type": "stream",
     "text": [
      "<class 'bool'> True\n"
     ]
    }
   ],
   "source": [
    "b = True\n",
    "print(type(b), b)"
   ]
  },
  {
   "cell_type": "code",
   "execution_count": 30,
   "metadata": {},
   "outputs": [
    {
     "name": "stdout",
     "output_type": "stream",
     "text": [
      "1\n",
      "1\n"
     ]
    }
   ],
   "source": [
    "f = 1.1\n",
    "i = int(f)\n",
    "\n",
    "print(i)\n",
    "\n",
    "f = 1.99\n",
    "i = int(f)\n",
    "\n",
    "print(i)"
   ]
  },
  {
   "cell_type": "markdown",
   "metadata": {},
   "source": [
    "But there is some **conversion threshold**"
   ]
  },
  {
   "cell_type": "code",
   "execution_count": 31,
   "metadata": {},
   "outputs": [
    {
     "name": "stdout",
     "output_type": "stream",
     "text": [
      "2\n"
     ]
    }
   ],
   "source": [
    "f = 1.9999999999999999\n",
    "i = int(f)\n",
    "\n",
    "print(i)"
   ]
  },
  {
   "cell_type": "code",
   "execution_count": 32,
   "metadata": {},
   "outputs": [
    {
     "name": "stdout",
     "output_type": "stream",
     "text": [
      "123\n",
      "123.456\n"
     ]
    }
   ],
   "source": [
    "s = '123'\n",
    "n = int(s)\n",
    "print(n)\n",
    "\n",
    "s = '123.456'\n",
    "n = float(s)\n",
    "print(n)"
   ]
  },
  {
   "cell_type": "code",
   "execution_count": null,
   "metadata": {},
   "outputs": [],
   "source": []
  },
  {
   "cell_type": "code",
   "execution_count": 33,
   "metadata": {},
   "outputs": [
    {
     "name": "stdout",
     "output_type": "stream",
     "text": [
      "True\n"
     ]
    }
   ],
   "source": [
    "b = bool(1)\n",
    "print(b)"
   ]
  },
  {
   "cell_type": "code",
   "execution_count": 34,
   "metadata": {},
   "outputs": [
    {
     "name": "stdout",
     "output_type": "stream",
     "text": [
      "<class 'float'> 100.0\n"
     ]
    }
   ],
   "source": [
    "i = 100\n",
    "f = float(i)\n",
    "\n",
    "print(type(f), f)"
   ]
  },
  {
   "cell_type": "markdown",
   "metadata": {},
   "source": [
    "## List Type"
   ]
  },
  {
   "cell_type": "code",
   "execution_count": 35,
   "metadata": {},
   "outputs": [
    {
     "data": {
      "text/plain": [
       "list"
      ]
     },
     "execution_count": 35,
     "metadata": {},
     "output_type": "execute_result"
    }
   ],
   "source": [
    "l = []\n",
    "type(l)"
   ]
  },
  {
   "cell_type": "code",
   "execution_count": 36,
   "metadata": {},
   "outputs": [
    {
     "name": "stdout",
     "output_type": "stream",
     "text": [
      "[1, 2.5, 'a', True]\n"
     ]
    }
   ],
   "source": [
    "list = [1, 2.5, 'a', True]\n",
    "print(list)"
   ]
  },
  {
   "cell_type": "code",
   "execution_count": 37,
   "metadata": {},
   "outputs": [
    {
     "data": {
      "text/plain": [
       "4"
      ]
     },
     "execution_count": 37,
     "metadata": {},
     "output_type": "execute_result"
    }
   ],
   "source": [
    "len(list)"
   ]
  },
  {
   "cell_type": "code",
   "execution_count": 38,
   "metadata": {},
   "outputs": [
    {
     "data": {
      "text/plain": [
       "[1, 2.5, 'a']"
      ]
     },
     "execution_count": 38,
     "metadata": {},
     "output_type": "execute_result"
    }
   ],
   "source": [
    "list[0:3]"
   ]
  },
  {
   "cell_type": "code",
   "execution_count": 39,
   "metadata": {},
   "outputs": [
    {
     "data": {
      "text/plain": [
       "[1, 2.5, 1, 2.5]"
      ]
     },
     "execution_count": 39,
     "metadata": {},
     "output_type": "execute_result"
    }
   ],
   "source": [
    "list[:2]*2"
   ]
  },
  {
   "cell_type": "code",
   "execution_count": 40,
   "metadata": {},
   "outputs": [
    {
     "data": {
      "text/plain": [
       "[1, 2.5, 2, 2]"
      ]
     },
     "execution_count": 40,
     "metadata": {},
     "output_type": "execute_result"
    }
   ],
   "source": [
    "list[:2] + [2, 2]"
   ]
  },
  {
   "cell_type": "code",
   "execution_count": 41,
   "metadata": {},
   "outputs": [
    {
     "name": "stdout",
     "output_type": "stream",
     "text": [
      "['new value', 'other new value', 'third value']\n",
      "['new value', 'other new value']\n",
      "['other new value']\n"
     ]
    }
   ],
   "source": [
    "lst = []\n",
    "\n",
    "lst.append('new value')\n",
    "lst.append('other new value')\n",
    "lst.append('third value')\n",
    "print(lst)\n",
    "\n",
    "lst.remove('third value')\n",
    "print(lst)\n",
    "\n",
    "del(lst[0])\n",
    "print(lst)"
   ]
  },
  {
   "cell_type": "code",
   "execution_count": 42,
   "metadata": {},
   "outputs": [
    {
     "name": "stdout",
     "output_type": "stream",
     "text": [
      "['other new value', 'new value']\n"
     ]
    }
   ],
   "source": [
    "lst = []\n",
    "\n",
    "lst.insert(0, 'new value')\n",
    "lst.insert(0, 'other new value')\n",
    "print(lst)"
   ]
  },
  {
   "cell_type": "code",
   "execution_count": 43,
   "metadata": {},
   "outputs": [
    {
     "name": "stdout",
     "output_type": "stream",
     "text": [
      "[10, 9, 8, 7, 6, 5, 4, 3, 2, 1]\n",
      "[4, 3, 2, 1, 5, 10, 9, 8, 7, 6]\n"
     ]
    }
   ],
   "source": [
    "lst = [x for x in range(1, 11)]\n",
    "\n",
    "lst.sort(reverse=True)\n",
    "print(lst)\n",
    "\n",
    "lst.sort(key=lambda x: -1 if x < 5 else 1 if x > 5 else 0)\n",
    "print(lst)"
   ]
  },
  {
   "cell_type": "code",
   "execution_count": 44,
   "metadata": {},
   "outputs": [
    {
     "name": "stdout",
     "output_type": "stream",
     "text": [
      "10\n",
      "1\n"
     ]
    }
   ],
   "source": [
    "lst = [x for x in range(1, 11)]\n",
    "\n",
    "print(max(lst))\n",
    "print(min(lst))"
   ]
  },
  {
   "cell_type": "markdown",
   "metadata": {},
   "source": [
    "## Tuples"
   ]
  },
  {
   "cell_type": "code",
   "execution_count": 45,
   "metadata": {},
   "outputs": [
    {
     "name": "stdout",
     "output_type": "stream",
     "text": [
      "<class 'tuple'>\n",
      "<class 'tuple'> (1, 2, 'a')\n",
      "<class 'int'> 1\n"
     ]
    }
   ],
   "source": [
    "t = ()\n",
    "print(type(t))\n",
    "\n",
    "t = (1, 2, 'a')\n",
    "print(type(t), t)\n",
    "\n",
    "t = (1)\n",
    "print(type(t), t)"
   ]
  },
  {
   "cell_type": "code",
   "execution_count": 46,
   "metadata": {},
   "outputs": [
    {
     "name": "stdout",
     "output_type": "stream",
     "text": [
      "a\n",
      "('a', 2.5)\n",
      "1\n",
      "4\n"
     ]
    }
   ],
   "source": [
    "t = (1, 2, 'a', 2.5)\n",
    "\n",
    "print(t[2])\n",
    "print(t[2:4])\n",
    "print(t.count('a'))\n",
    "print(len(t))"
   ]
  },
  {
   "cell_type": "code",
   "execution_count": 47,
   "metadata": {},
   "outputs": [
    {
     "name": "stdout",
     "output_type": "stream",
     "text": [
      "<class 'list'> [1, 2, 3, 4, 5, 6, 7, 8, 9, 10]\n",
      "<class 'tuple'> (1, 2, 3, 4, 5, 6, 7, 8, 9, 10)\n"
     ]
    }
   ],
   "source": [
    "lst = [x for x in range(1, 11)]\n",
    "print(type(lst), lst)\n",
    "\n",
    "tpl = tuple(lst)\n",
    "print(type(tpl), tpl)"
   ]
  },
  {
   "cell_type": "markdown",
   "metadata": {},
   "source": [
    "## Sets"
   ]
  },
  {
   "cell_type": "code",
   "execution_count": 48,
   "metadata": {},
   "outputs": [
    {
     "data": {
      "text/plain": [
       "dict"
      ]
     },
     "execution_count": 48,
     "metadata": {},
     "output_type": "execute_result"
    }
   ],
   "source": [
    "s = {}\n",
    "type(s)"
   ]
  },
  {
   "cell_type": "code",
   "execution_count": 49,
   "metadata": {},
   "outputs": [
    {
     "name": "stdout",
     "output_type": "stream",
     "text": [
      "<class 'set'> {1, 3, 'a'}\n",
      "Can not perform the operation: 'set' object does not support indexing\n",
      "Can not perform the operation: unsupported operand type(s) for +: 'set' and 'set'\n"
     ]
    }
   ],
   "source": [
    "s = {1, 1, 1, 3, 'a'}\n",
    "print(type(s), s)\n",
    "\n",
    "try:\n",
    "    print(s[0])\n",
    "except TypeError as error:\n",
    "    print(\"Can not perform the operation: {}\".format(error))\n",
    "    \n",
    "try:\n",
    "    print(s + {'000'})\n",
    "except TypeError as error:\n",
    "    print(\"Can not perform the operation: {}\".format(error))"
   ]
  },
  {
   "cell_type": "code",
   "execution_count": 50,
   "metadata": {},
   "outputs": [
    {
     "name": "stdout",
     "output_type": "stream",
     "text": [
      "{1, 3, 'a'}\n",
      "{0, 1, 'b', 3, 'a'}\n",
      "{0, 1, 3, 'a'}\n"
     ]
    }
   ],
   "source": [
    "s = {1, 1, 1, 3, 'a'}\n",
    "print(s)\n",
    "\n",
    "s.update([0, 'b'])\n",
    "print(s)\n",
    "\n",
    "s.remove('b')\n",
    "print(s)"
   ]
  },
  {
   "cell_type": "code",
   "execution_count": 51,
   "metadata": {},
   "outputs": [
    {
     "name": "stdout",
     "output_type": "stream",
     "text": [
      "Can not perform the operation: 'frozenset' object has no attribute 'remove'\n"
     ]
    }
   ],
   "source": [
    "s = {1, 1, 1, 3, 'a'}\n",
    "\n",
    "fs=frozenset(s)\n",
    "\n",
    "try:\n",
    "    fs.remove('1')\n",
    "except AttributeError as error:\n",
    "    print(\"Can not perform the operation: {}\".format(error))"
   ]
  },
  {
   "cell_type": "markdown",
   "metadata": {},
   "source": [
    "## Ranges"
   ]
  },
  {
   "cell_type": "code",
   "execution_count": 52,
   "metadata": {},
   "outputs": [
    {
     "name": "stdout",
     "output_type": "stream",
     "text": [
      "<class 'range'> range(0, 5)\n",
      "range(5, 20)\n",
      "[1, 4, 7, 10, 13, 16, 19]\n"
     ]
    }
   ],
   "source": [
    "r=range(5)\n",
    "print(type(r), r)\n",
    "\n",
    "r=range(5, 20)\n",
    "print(r)\n",
    "\n",
    "values = [x for x in range(1, 20, 3)]\n",
    "print(values)\n"
   ]
  },
  {
   "cell_type": "markdown",
   "metadata": {},
   "source": [
    "## Bytes"
   ]
  },
  {
   "cell_type": "code",
   "execution_count": 53,
   "metadata": {},
   "outputs": [
    {
     "name": "stdout",
     "output_type": "stream",
     "text": [
      "<class 'list'>\n",
      "<class 'bytes'> b'\\x01\\nd\\xff'\n"
     ]
    }
   ],
   "source": [
    "lst=[1, 10, 100, 255]\n",
    "print(type(lst))\n",
    "\n",
    "bts=bytes(lst)\n",
    "print(type(bts), bts)"
   ]
  },
  {
   "cell_type": "code",
   "execution_count": 54,
   "metadata": {},
   "outputs": [
    {
     "name": "stdout",
     "output_type": "stream",
     "text": [
      "10\n",
      "b'\\x01\\nd'\n",
      "Can not perform operation: 'bytes' object does not support item assignment\n"
     ]
    }
   ],
   "source": [
    "bts=bytes([1, 10, 100, 255])\n",
    "\n",
    "print(bts[1])\n",
    "print(bts[:3])\n",
    "\n",
    "try:\n",
    "    bts[1]=5\n",
    "except TypeError as error:\n",
    "    print(\"Can not perform operation: {}\".format(error))"
   ]
  },
  {
   "cell_type": "code",
   "execution_count": 55,
   "metadata": {},
   "outputs": [
    {
     "name": "stdout",
     "output_type": "stream",
     "text": [
      "<class 'bytearray'> bytearray(b'\\x01\\nd\\xff')\n",
      "100\n",
      "101\n"
     ]
    }
   ],
   "source": [
    "bts=bytearray([1, 10, 100, 255])\n",
    "print(type(bts), bts)\n",
    "\n",
    "print(bts[2])\n",
    "\n",
    "bts[2] = 101\n",
    "print(bts[2])"
   ]
  },
  {
   "cell_type": "code",
   "execution_count": 56,
   "metadata": {},
   "outputs": [
    {
     "name": "stdout",
     "output_type": "stream",
     "text": [
      "1\n",
      "10\n",
      "100\n",
      "255\n"
     ]
    }
   ],
   "source": [
    "bts=bytearray([1, 10, 100, 255])\n",
    "\n",
    "for b in bts:\n",
    "    print(b)"
   ]
  },
  {
   "cell_type": "markdown",
   "metadata": {},
   "source": [
    "## Dictionaries"
   ]
  },
  {
   "cell_type": "code",
   "execution_count": 57,
   "metadata": {},
   "outputs": [
    {
     "name": "stdout",
     "output_type": "stream",
     "text": [
      "<class 'dict'> {}\n",
      "{'Name': 'Sergii', 1: '000-00-01', 2: '000-00-02'}\n",
      "Keys: dict_keys(['Name', 1, 2])\n",
      "Values: dict_values(['Sergii', '000-00-01', '000-00-02'])\n",
      "000-00-01\n",
      "Sergii\n"
     ]
    }
   ],
   "source": [
    "dct={}\n",
    "print(type(dct), dct)\n",
    "\n",
    "dct={'Name':'Sergii', 1:'000-00-01', 2:'000-00-02'}\n",
    "print(dct)\n",
    "\n",
    "print(\"Keys: {}\\nValues: {}\".format(dct.keys(), dct.values()))\n",
    "\n",
    "print(dct[1])\n",
    "print(dct['Name'])"
   ]
  },
  {
   "cell_type": "code",
   "execution_count": 58,
   "metadata": {},
   "outputs": [
    {
     "name": "stdout",
     "output_type": "stream",
     "text": [
      "{'Name': 'Sergii', 1: '000-00-01', 2: '000-00-02'}\n",
      "{'Name': 'Sergii', 2: '000-00-02'}\n"
     ]
    }
   ],
   "source": [
    "dct={'Name':'Sergii', 1:'000-00-01', 2:'000-00-02'}\n",
    "print(dct)\n",
    "\n",
    "del(dct[1])\n",
    "print(dct)"
   ]
  },
  {
   "cell_type": "code",
   "execution_count": 3,
   "metadata": {},
   "outputs": [
    {
     "name": "stdout",
     "output_type": "stream",
     "text": [
      "True\n"
     ]
    }
   ],
   "source": [
    "\n"
   ]
  },
  {
   "cell_type": "code",
   "execution_count": null,
   "metadata": {},
   "outputs": [],
   "source": []
  },
  {
   "cell_type": "code",
   "execution_count": null,
   "metadata": {},
   "outputs": [],
   "source": []
  },
  {
   "cell_type": "code",
   "execution_count": null,
   "metadata": {},
   "outputs": [],
   "source": []
  },
  {
   "cell_type": "code",
   "execution_count": null,
   "metadata": {},
   "outputs": [],
   "source": []
  },
  {
   "cell_type": "code",
   "execution_count": null,
   "metadata": {},
   "outputs": [],
   "source": []
  },
  {
   "cell_type": "code",
   "execution_count": null,
   "metadata": {},
   "outputs": [],
   "source": []
  },
  {
   "cell_type": "code",
   "execution_count": null,
   "metadata": {},
   "outputs": [],
   "source": []
  },
  {
   "cell_type": "code",
   "execution_count": null,
   "metadata": {},
   "outputs": [],
   "source": []
  },
  {
   "cell_type": "code",
   "execution_count": null,
   "metadata": {},
   "outputs": [],
   "source": []
  },
  {
   "cell_type": "code",
   "execution_count": null,
   "metadata": {},
   "outputs": [],
   "source": []
  },
  {
   "cell_type": "code",
   "execution_count": null,
   "metadata": {},
   "outputs": [],
   "source": []
  },
  {
   "cell_type": "markdown",
   "metadata": {},
   "source": [
    "$y = 2 x^{2} + 3 x + 6$"
   ]
  },
  {
   "cell_type": "code",
   "execution_count": 59,
   "metadata": {},
   "outputs": [],
   "source": [
    "## f = Limit((sin(x)**2 + cos(2*x))/(2*x**2 + 3*x + 6), x, -oo)\n",
    "## latex(f)"
   ]
  },
  {
   "cell_type": "markdown",
   "metadata": {},
   "source": [
    "$\\lim_{x \\to -\\infty}\\left(\\frac{\\sin^{2}{\\left (x \\right )} + \\cos{\\left (2 x \\right )}}{2 x^{2} + 3 x + 6}\\right)$"
   ]
  },
  {
   "cell_type": "code",
   "execution_count": null,
   "metadata": {},
   "outputs": [],
   "source": []
  }
 ],
 "metadata": {
  "kernelspec": {
   "display_name": "Python 3",
   "language": "python",
   "name": "python3"
  },
  "language_info": {
   "codemirror_mode": {
    "name": "ipython",
    "version": 3
   },
   "file_extension": ".py",
   "mimetype": "text/x-python",
   "name": "python",
   "nbconvert_exporter": "python",
   "pygments_lexer": "ipython3",
   "version": "3.7.0"
  }
 },
 "nbformat": 4,
 "nbformat_minor": 2
}
