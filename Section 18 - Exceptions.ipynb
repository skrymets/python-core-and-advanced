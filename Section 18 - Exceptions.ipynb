{
 "cells": [
  {
   "cell_type": "code",
   "execution_count": 13,
   "metadata": {},
   "outputs": [
    {
     "name": "stdout",
     "output_type": "stream",
     "text": [
      "code\n",
      "exception handler for : Fake exception\n",
      "Do some cleanup work here\n"
     ]
    }
   ],
   "source": [
    "\n",
    "try:\n",
    "    ## some code\n",
    "    print(\"code\")\n",
    "    raise ZeroDivisionError(\"Fake exception\")\n",
    "except ZeroDivisionError as e:\n",
    "    ## handler\n",
    "    print(\"exception handler for : %s\" % e)\n",
    "else:\n",
    "    ## what if exception wasnt raised\n",
    "    print(\"Everything is OK.\")\n",
    "finally:\n",
    "    print(\"Do some cleanup work here\")\n",
    "    "
   ]
  },
  {
   "cell_type": "code",
   "execution_count": 15,
   "metadata": {},
   "outputs": [
    {
     "name": "stdout",
     "output_type": "stream",
     "text": [
      "code\n",
      "Everything is OK.\n",
      "Stil do some cleanup work here, even if all is OK\n"
     ]
    }
   ],
   "source": [
    "try:\n",
    "    print(\"code\")\n",
    "except ZeroDivisionError as e:\n",
    "    ## handler\n",
    "    print(\"exception handler for : %s\" % e)\n",
    "else:\n",
    "    ## what if exception wasnt raised\n",
    "    print(\"Everything is OK.\")\n",
    "finally:\n",
    "    print(\"Stil do some cleanup work here, even if all is OK\")"
   ]
  },
  {
   "cell_type": "code",
   "execution_count": 18,
   "metadata": {},
   "outputs": [
    {
     "name": "stdout",
     "output_type": "stream",
     "text": [
      "more common handler for : division by zero\n"
     ]
    }
   ],
   "source": [
    "try:\n",
    "    4 / 0\n",
    "except Exception as e:\n",
    "    print(\"more common handler for : %s\" % e)\n",
    "except ZeroDivisionError as e:\n",
    "    print(\"exception handler for : %s\" % e)"
   ]
  },
  {
   "cell_type": "code",
   "execution_count": 19,
   "metadata": {},
   "outputs": [],
   "source": [
    "import logging"
   ]
  },
  {
   "cell_type": "code",
   "execution_count": 26,
   "metadata": {},
   "outputs": [
    {
     "name": "stderr",
     "output_type": "stream",
     "text": [
      "CRITICAL:__main__:critical\n",
      "ERROR:__main__:error\n",
      "WARNING:__main__:warn\n",
      "INFO:__main__:info\n",
      "DEBUG:__main__:debug\n"
     ]
    }
   ],
   "source": [
    "logging.basicConfig(level=logging.DEBUG)\n",
    "logger = logging.getLogger(__name__)\n",
    "\n",
    "logger.critical(\"critical\")\n",
    "logger.error(\"error\")\n",
    "logger.warning(\"warn\")\n",
    "logger.info(\"info\")\n",
    "logger.debug(\"debug\")"
   ]
  },
  {
   "cell_type": "code",
   "execution_count": 32,
   "metadata": {},
   "outputs": [
    {
     "name": "stdout",
     "output_type": "stream",
     "text": [
      "Enter the password: a\n",
      "Invalid password length. At least 8 charactes required\n",
      "Enter the password: asdf\n",
      "Invalid password length. At least 8 charactes required\n",
      "Enter the password: 344758776984568\n"
     ]
    }
   ],
   "source": [
    "\n",
    "class InvalidPasswordException(Exception):\n",
    "    \n",
    "    def __init__(self):\n",
    "        super().__init__(\"Invalid password length. At least 8 charactes required\")\n",
    "\n",
    "\n",
    "while True:\n",
    "    password = input(\"Enter the password: \")\n",
    "\n",
    "    try:\n",
    "        if len(password) < 8:\n",
    "            raise InvalidPasswordException()\n",
    "\n",
    "    except InvalidPasswordException as err:\n",
    "        print(err) \n",
    "        \n",
    "    else:\n",
    "        break\n",
    "        "
   ]
  },
  {
   "cell_type": "code",
   "execution_count": null,
   "metadata": {},
   "outputs": [],
   "source": []
  }
 ],
 "metadata": {
  "kernelspec": {
   "display_name": "Python 3",
   "language": "python",
   "name": "python3"
  },
  "language_info": {
   "codemirror_mode": {
    "name": "ipython",
    "version": 3
   },
   "file_extension": ".py",
   "mimetype": "text/x-python",
   "name": "python",
   "nbconvert_exporter": "python",
   "pygments_lexer": "ipython3",
   "version": "3.5.2"
  }
 },
 "nbformat": 4,
 "nbformat_minor": 2
}
