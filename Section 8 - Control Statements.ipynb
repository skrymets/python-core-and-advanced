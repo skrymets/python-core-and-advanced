{
 "cells": [
  {
   "cell_type": "markdown",
   "metadata": {},
   "source": [
    "# if ... elif ... else ..."
   ]
  },
  {
   "cell_type": "code",
   "execution_count": 11,
   "metadata": {},
   "outputs": [
    {
     "name": "stdout",
     "output_type": "stream",
     "text": [
      "Value is 0\n",
      "32 is in the second quarter, and even\n",
      "76 is in the forth quarter, and even\n",
      "68 is in the third quarter, and even\n",
      "10 is in the first quarter, and even\n",
      "64 is in the third quarter, and even\n",
      "21 is in the first quarter, and odd\n",
      "50 is in the second quarter, and even\n",
      "77 is in the forth quarter, and odd\n",
      "3 is in the first quarter, and odd\n",
      "36 is in the second quarter, and even\n"
     ]
    }
   ],
   "source": [
    "import random as r\n",
    "\n",
    "def analyze(rnd):\n",
    "    \n",
    "    ev = 'even' if rnd % 2 == 0 else 'odd'\n",
    "    \n",
    "    if rnd == 0:\n",
    "        print(\"Value is 0\")\n",
    "    elif rnd <= 25:\n",
    "        print(\"%s is in the first quarter, and %s\" % (rnd, ev))\n",
    "    elif rnd <= 50:\n",
    "        print(\"%s is in the second quarter, and %s\" % (rnd, ev))\n",
    "    elif rnd <= 75:\n",
    "        print(\"%s is in the third quarter, and %s\" % (rnd, ev))\n",
    "    else:\n",
    "        print(\"%s is in the forth quarter, and %s\" % (rnd, ev))\n",
    "    \n",
    "analyze(0)\n",
    "\n",
    "for i in range(1, 11):\n",
    "    analyze(r.randint(a=0, b=100))"
   ]
  },
  {
   "cell_type": "markdown",
   "metadata": {},
   "source": [
    "# while ... "
   ]
  },
  {
   "cell_type": "code",
   "execution_count": 15,
   "metadata": {},
   "outputs": [
    {
     "name": "stdout",
     "output_type": "stream",
     "text": [
      "1\n",
      "2\n",
      "3\n",
      "4\n",
      "5\n"
     ]
    }
   ],
   "source": [
    "x = 1\n",
    "\n",
    "while x < 6:\n",
    "    print(x)\n",
    "    x+=1\n",
    "    "
   ]
  },
  {
   "cell_type": "markdown",
   "metadata": {},
   "source": [
    "# for ... in ..."
   ]
  },
  {
   "cell_type": "code",
   "execution_count": 18,
   "metadata": {},
   "outputs": [
    {
     "name": "stdout",
     "output_type": "stream",
     "text": [
      "3628800\n"
     ]
    }
   ],
   "source": [
    "product = 1\n",
    "for i in range(1, 11):\n",
    "    product *= i\n",
    "    \n",
    "print(product)"
   ]
  },
  {
   "cell_type": "code",
   "execution_count": 19,
   "metadata": {},
   "outputs": [
    {
     "name": "stdout",
     "output_type": "stream",
     "text": [
      "a\n",
      "b\n",
      "c\n"
     ]
    }
   ],
   "source": [
    "s = {\"a\", \"b\", \"c\"}\n",
    "\n",
    "for c in s:\n",
    "    print(c)"
   ]
  },
  {
   "cell_type": "code",
   "execution_count": 20,
   "metadata": {},
   "outputs": [
    {
     "name": "stdout",
     "output_type": "stream",
     "text": [
      "1\n",
      "2\n",
      "three\n",
      "4.0\n"
     ]
    }
   ],
   "source": [
    "t = (1, 2, 'three', 4.0, )\n",
    "\n",
    "for x in t:\n",
    "    print(x)"
   ]
  },
  {
   "cell_type": "code",
   "execution_count": 22,
   "metadata": {},
   "outputs": [
    {
     "name": "stdout",
     "output_type": "stream",
     "text": [
      "a\n",
      " \n",
      "t\n",
      "e\n",
      "x\n",
      "t\n"
     ]
    }
   ],
   "source": [
    "text = \"a text\"\n",
    "\n",
    "for c in text:\n",
    "    print(c)"
   ]
  },
  {
   "cell_type": "code",
   "execution_count": 27,
   "metadata": {},
   "outputs": [
    {
     "name": "stdout",
     "output_type": "stream",
     "text": [
      "1 a\n",
      "2 b\n",
      "c 3\n",
      "a text (1, 2, 'three', 4.0)\n"
     ]
    }
   ],
   "source": [
    "m = {1: 'a', 2: 'b', 'c': 3, text: t}\n",
    "\n",
    "for k, v in m.items():\n",
    "    print(k, v)"
   ]
  },
  {
   "cell_type": "markdown",
   "metadata": {},
   "source": [
    "## break an continue"
   ]
  },
  {
   "cell_type": "code",
   "execution_count": 28,
   "metadata": {},
   "outputs": [
    {
     "name": "stdout",
     "output_type": "stream",
     "text": [
      "1\n",
      "2\n",
      "4\n",
      "5\n",
      "7\n",
      "8\n",
      "10\n",
      "11\n",
      "13\n",
      "14\n",
      "16\n",
      "17\n",
      "19\n",
      "20\n"
     ]
    }
   ],
   "source": [
    "for i in range(1, 21):\n",
    "    if i % 3 == 0:\n",
    "        continue\n",
    "    else:\n",
    "        print(i)"
   ]
  },
  {
   "cell_type": "code",
   "execution_count": 29,
   "metadata": {},
   "outputs": [
    {
     "name": "stdout",
     "output_type": "stream",
     "text": [
      "1\n",
      "2\n",
      "5\n",
      "8\n",
      "2\n"
     ]
    }
   ],
   "source": [
    "lst = [1, 2, 5, 8, 2, 3, 11]\n",
    "\n",
    "for i in lst:\n",
    "    if i == 3:\n",
    "        break\n",
    "    print(i)\n"
   ]
  },
  {
   "cell_type": "markdown",
   "metadata": {},
   "source": [
    "# assert"
   ]
  },
  {
   "cell_type": "code",
   "execution_count": 4,
   "metadata": {},
   "outputs": [
    {
     "name": "stdout",
     "output_type": "stream",
     "text": [
      "Please enter a number from 1 to 9: 23\n",
      "The value is out of the range. Can not operate with this value\n"
     ]
    }
   ],
   "source": [
    "inp = input(\"Please enter a number from 1 to 9: \")\n",
    "num = int(inp)\n",
    "\n",
    "valid_input = True \n",
    "\n",
    "try:\n",
    "    assert num <= 0 and num >= 10, \"The value is out of the range.\"\n",
    "except AssertionError as err:\n",
    "    print(err, \"Can not operate with this value\")\n",
    "    valid_input = False\n",
    "\n",
    "if valid_input: \n",
    "    fmt = \"%s * %2s = %\" + str(len(inp) + 1) + \"s\"\n",
    "\n",
    "    for i in range(1, 11):\n",
    "        print(fmt % (num, i, num * i))\n"
   ]
  },
  {
   "cell_type": "code",
   "execution_count": 5,
   "metadata": {},
   "outputs": [
    {
     "name": "stdout",
     "output_type": "stream",
     "text": [
      "Enter a number please: 112\n",
      "[1, 2, 3, 4, 5, 6, 7, 8, 9, 11, 12, 13, 14, 15, 16, 17, 18, 19, 21, 22, 23, 24, 25, 26, 27, 28, 29, 31, 32, 33, 34, 35, 36, 37, 38, 39, 41, 42, 43, 44, 45, 46, 47, 48, 49, 51, 52, 53, 54, 55, 56, 57, 58, 59, 61, 62, 63, 64, 65, 66, 67, 68, 69, 71, 72, 73, 74, 75, 76, 77, 78, 79, 81, 82, 83, 84, 85, 86, 87, 88, 89, 91, 92, 93, 94, 95, 96, 97, 98, 99]\n"
     ]
    }
   ],
   "source": [
    "# ASSIGNMENT\n",
    "\n",
    "inp = int(input(\"Enter a number please: \"))\n",
    "# Output: Enter a number please: 112\n",
    "\n",
    "numbers = []\n",
    "\n",
    "for i in range(0, inp+1):\n",
    "    if i > 100:\n",
    "        break\n",
    "\n",
    "    if i % 10 == 0:\n",
    "        continue\n",
    "\n",
    "    numbers.append(i)\n",
    "\n",
    "\n",
    "print(numbers)\n",
    "\n",
    "# Output: [1, 2, 3, 4, 5, 6, 7, 8, 9, 11, 12, 13, 14, 15, 16, 17, 18, 19, 21, 22, 23, 24, 25, 26, 27, 28, 29, \n",
    "# 31, 32, 33, 34, 35, 36, 37, 38, 39, 41, 42, 43, 44, 45, 46, 47, 48, 49, 51, 52, 53, 54, 55, 56, 57, 58, 59, \n",
    "# 61, 62, 63, 64, 65, 66, 67, 68, 69, 71, 72, 73, 74, 75, 76, 77, 78, 79, 81, 82, 83, 84, 85, 86, 87, 88, 89, \n",
    "# 91, 92, 93, 94, 95, 96, 97, 98, 99]"
   ]
  },
  {
   "cell_type": "code",
   "execution_count": null,
   "metadata": {},
   "outputs": [],
   "source": []
  }
 ],
 "metadata": {
  "kernelspec": {
   "display_name": "Python 3",
   "language": "python",
   "name": "python3"
  },
  "language_info": {
   "codemirror_mode": {
    "name": "ipython",
    "version": 3
   },
   "file_extension": ".py",
   "mimetype": "text/x-python",
   "name": "python",
   "nbconvert_exporter": "python",
   "pygments_lexer": "ipython3",
   "version": "3.5.2"
  }
 },
 "nbformat": 4,
 "nbformat_minor": 2
}
