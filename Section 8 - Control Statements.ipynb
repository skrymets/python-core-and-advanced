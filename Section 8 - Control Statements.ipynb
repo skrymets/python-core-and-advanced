{
 "cells": [
  {
   "cell_type": "markdown",
   "metadata": {},
   "source": [
    "# if ... elif ... else ..."
   ]
  },
  {
   "cell_type": "code",
   "execution_count": 11,
   "metadata": {},
   "outputs": [
    {
     "name": "stdout",
     "output_type": "stream",
     "text": [
      "Value is 0\n",
      "32 is in the second quarter, and even\n",
      "76 is in the forth quarter, and even\n",
      "68 is in the third quarter, and even\n",
      "10 is in the first quarter, and even\n",
      "64 is in the third quarter, and even\n",
      "21 is in the first quarter, and odd\n",
      "50 is in the second quarter, and even\n",
      "77 is in the forth quarter, and odd\n",
      "3 is in the first quarter, and odd\n",
      "36 is in the second quarter, and even\n"
     ]
    }
   ],
   "source": [
    "import random as r\n",
    "\n",
    "def analyze(rnd):\n",
    "    \n",
    "    ev = 'even' if rnd % 2 == 0 else 'odd'\n",
    "    \n",
    "    if rnd == 0:\n",
    "        print(\"Value is 0\")\n",
    "    elif rnd <= 25:\n",
    "        print(\"%s is in the first quarter, and %s\" % (rnd, ev))\n",
    "    elif rnd <= 50:\n",
    "        print(\"%s is in the second quarter, and %s\" % (rnd, ev))\n",
    "    elif rnd <= 75:\n",
    "        print(\"%s is in the third quarter, and %s\" % (rnd, ev))\n",
    "    else:\n",
    "        print(\"%s is in the forth quarter, and %s\" % (rnd, ev))\n",
    "    \n",
    "analyze(0)\n",
    "\n",
    "for i in range(1, 11):\n",
    "    analyze(r.randint(a=0, b=100))"
   ]
  },
  {
   "cell_type": "markdown",
   "metadata": {},
   "source": [
    "# while ... "
   ]
  },
  {
   "cell_type": "code",
   "execution_count": 15,
   "metadata": {},
   "outputs": [
    {
     "name": "stdout",
     "output_type": "stream",
     "text": [
      "1\n",
      "2\n",
      "3\n",
      "4\n",
      "5\n"
     ]
    }
   ],
   "source": [
    "x = 1\n",
    "\n",
    "while x < 6:\n",
    "    print(x)\n",
    "    x+=1\n",
    "    "
   ]
  },
  {
   "cell_type": "markdown",
   "metadata": {},
   "source": [
    "# for ... in ..."
   ]
  },
  {
   "cell_type": "code",
   "execution_count": 18,
   "metadata": {},
   "outputs": [
    {
     "name": "stdout",
     "output_type": "stream",
     "text": [
      "3628800\n"
     ]
    }
   ],
   "source": [
    "product = 1\n",
    "for i in range(1, 11):\n",
    "    product *= i\n",
    "    \n",
    "print(product)"
   ]
  },
  {
   "cell_type": "code",
   "execution_count": 19,
   "metadata": {},
   "outputs": [
    {
     "name": "stdout",
     "output_type": "stream",
     "text": [
      "a\n",
      "b\n",
      "c\n"
     ]
    }
   ],
   "source": [
    "s = {\"a\", \"b\", \"c\"}\n",
    "\n",
    "for c in s:\n",
    "    print(c)"
   ]
  },
  {
   "cell_type": "code",
   "execution_count": 20,
   "metadata": {},
   "outputs": [
    {
     "name": "stdout",
     "output_type": "stream",
     "text": [
      "1\n",
      "2\n",
      "three\n",
      "4.0\n"
     ]
    }
   ],
   "source": [
    "t = (1, 2, 'three', 4.0, )\n",
    "\n",
    "for x in t:\n",
    "    print(x)"
   ]
  },
  {
   "cell_type": "code",
   "execution_count": 22,
   "metadata": {},
   "outputs": [
    {
     "name": "stdout",
     "output_type": "stream",
     "text": [
      "a\n",
      " \n",
      "t\n",
      "e\n",
      "x\n",
      "t\n"
     ]
    }
   ],
   "source": [
    "text = \"a text\"\n",
    "\n",
    "for c in text:\n",
    "    print(c)"
   ]
  },
  {
   "cell_type": "code",
   "execution_count": 27,
   "metadata": {},
   "outputs": [
    {
     "name": "stdout",
     "output_type": "stream",
     "text": [
      "1 a\n",
      "2 b\n",
      "c 3\n",
      "a text (1, 2, 'three', 4.0)\n"
     ]
    }
   ],
   "source": [
    "m = {1: 'a', 2: 'b', 'c': 3, text: t}\n",
    "\n",
    "for k, v in m.items():\n",
    "    print(k, v)"
   ]
  },
  {
   "cell_type": "code",
   "execution_count": null,
   "metadata": {},
   "outputs": [],
   "source": []
  }
 ],
 "metadata": {
  "kernelspec": {
   "display_name": "Python 3",
   "language": "python",
   "name": "python3"
  },
  "language_info": {
   "codemirror_mode": {
    "name": "ipython",
    "version": 3
   },
   "file_extension": ".py",
   "mimetype": "text/x-python",
   "name": "python",
   "nbconvert_exporter": "python",
   "pygments_lexer": "ipython3",
   "version": "3.5.2"
  }
 },
 "nbformat": 4,
 "nbformat_minor": 2
}
