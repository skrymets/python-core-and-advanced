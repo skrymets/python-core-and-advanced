{
 "cells": [
  {
   "cell_type": "code",
   "execution_count": 1,
   "metadata": {},
   "outputs": [],
   "source": [
    "import logging\n",
    "\n",
    "logging.basicConfig(level=logging.DEBUG)\n",
    "logger = logging.getLogger(__name__)"
   ]
  },
  {
   "cell_type": "markdown",
   "metadata": {},
   "source": [
    "# A Class"
   ]
  },
  {
   "cell_type": "code",
   "execution_count": 50,
   "metadata": {},
   "outputs": [
    {
     "name": "stdout",
     "output_type": "stream",
     "text": [
      "Dog Toy\n"
     ]
    }
   ],
   "source": [
    "class Product(object):\n",
    "    \n",
    "    def __init__(self, id, title, price):\n",
    "        self.id = id\n",
    "        self.title = title\n",
    "        self.price = price\n",
    "\n",
    "        \n",
    "\n",
    "p = Product(100, \"Dog Toy\", 49.99)\n",
    "print(p.title)"
   ]
  },
  {
   "cell_type": "code",
   "execution_count": 3,
   "metadata": {},
   "outputs": [
    {
     "name": "stdout",
     "output_type": "stream",
     "text": [
      "5.357142857142857\n"
     ]
    }
   ],
   "source": [
    "class Course(object):\n",
    "    \n",
    "    def __init__(self, title, ratings):\n",
    "        self.title = title\n",
    "        self.ratings = ratings\n",
    "        \n",
    "    def average(self):\n",
    "        return (sum(self.ratings)/len(self.ratings))\n",
    "    \n",
    "c = Course(\"Python Core and Advanced\", [5,6,7,5,4,3,7,8,4,5,4,8,4,5])\n",
    "print(c.average())\n"
   ]
  },
  {
   "cell_type": "markdown",
   "metadata": {},
   "source": [
    " ## Visibility Scopes"
   ]
  },
  {
   "cell_type": "markdown",
   "metadata": {},
   "source": [
    "### Public"
   ]
  },
  {
   "cell_type": "code",
   "execution_count": 26,
   "metadata": {},
   "outputs": [],
   "source": [
    "class A(object):\n",
    "    def __init__(self, x):\n",
    "        self.x = x\n",
    "\n",
    "a = A(10)\n",
    "assert a.x == 10"
   ]
  },
  {
   "cell_type": "markdown",
   "metadata": {},
   "source": [
    "### Private"
   ]
  },
  {
   "cell_type": "code",
   "execution_count": 34,
   "metadata": {},
   "outputs": [
    {
     "name": "stderr",
     "output_type": "stream",
     "text": [
      "ERROR:__main__:We can not access private '__'-marked fields directly: 'B' object has no attribute '__private_data'\n",
      "ERROR:__main__:We can not access private '__'-marked mrthods directly: 'B' object has no attribute '__private_method'\n"
     ]
    }
   ],
   "source": [
    "class B(object):\n",
    "    def __init__(self, x):\n",
    "        self.__private_data = x\n",
    "        \n",
    "    def __private_method(self):\n",
    "        print(\"Do something under the hood\")\n",
    "        \n",
    "b = B(10)\n",
    "\n",
    "try:\n",
    "    print(b.__private_data)\n",
    "except AttributeError as error:\n",
    "    logger.error(\"We can not access private '__'-marked fields directly: %s\" % error)\n",
    "    \n",
    "try:\n",
    "    print(b.__private_method())\n",
    "except AttributeError as error:\n",
    "    logger.error(\"We can not access private '__'-marked mrthods directly: %s\" % error)\n"
   ]
  },
  {
   "cell_type": "markdown",
   "metadata": {},
   "source": [
    "**BUT!** Honestly - we actually **CAN**"
   ]
  },
  {
   "cell_type": "code",
   "execution_count": 38,
   "metadata": {},
   "outputs": [
    {
     "name": "stdout",
     "output_type": "stream",
     "text": [
      "10\n",
      "Do something under the hood\n"
     ]
    }
   ],
   "source": [
    "b = B(10)\n",
    "\n",
    "print(b._B__private_data)\n",
    "b._B__private_method()\n"
   ]
  },
  {
   "cell_type": "markdown",
   "metadata": {},
   "source": [
    "**There is nothing private here by default**!"
   ]
  },
  {
   "cell_type": "markdown",
   "metadata": {},
   "source": [
    "## Properties"
   ]
  },
  {
   "cell_type": "markdown",
   "metadata": {},
   "source": [
    "*Unlike* Java, not all Python class' fields are intended to be *private*. For those of them which have to be private or should support *getter/setter* logic - **@property** are introduced.\n",
    "\n",
    "https://www.python-course.eu/python3_properties.php"
   ]
  },
  {
   "cell_type": "code",
   "execution_count": 40,
   "metadata": {},
   "outputs": [
    {
     "name": "stderr",
     "output_type": "stream",
     "text": [
      "ERROR:__main__:'Course' object has no attribute '__title'\n"
     ]
    },
    {
     "name": "stdout",
     "output_type": "stream",
     "text": [
      "Python Core and Advanced\n",
      "Python Core and Advanced\n"
     ]
    }
   ],
   "source": [
    "class Course(object):\n",
    "\n",
    "    def __init__(self, title):\n",
    "        object.__init__(self)\n",
    "        self.__title = title\n",
    "\n",
    "    @property\n",
    "    def title(self):\n",
    "        return self.__title\n",
    "\n",
    "    @title.setter\n",
    "    def title(self, t):\n",
    "        self.__title = t\n",
    "\n",
    "\n",
    "c = Course(\"Python Core and Advanced\")\n",
    "\n",
    "\n",
    "try:\n",
    "    print(c.__title)\n",
    "except AttributeError as error:\n",
    "    logger.error(error)\n",
    "\n",
    "\n",
    "print(c.title)\n",
    "\n",
    "## But still!! @property does not make this variable private\n",
    "print(c._Course__title)\n"
   ]
  },
  {
   "cell_type": "code",
   "execution_count": 7,
   "metadata": {},
   "outputs": [
    {
     "name": "stdout",
     "output_type": "stream",
     "text": [
      "Some sensitive data\n",
      "Some other sensitive data\n"
     ]
    }
   ],
   "source": [
    "class Statics:\n",
    "    \n",
    "    static_field = \"Some sensitive data\"\n",
    "    \n",
    "    def show_me_the_data(self):\n",
    "        print(self.static_field)\n",
    "        \n",
    "s1 = Statics()\n",
    "s1.show_me_the_data()\n",
    "\n",
    "Statics.static_field = \"Some other sensitive data\"\n",
    "\n",
    "s2 = Statics()\n",
    "s2.show_me_the_data()\n"
   ]
  },
  {
   "cell_type": "code",
   "execution_count": 8,
   "metadata": {},
   "outputs": [
    {
     "name": "stderr",
     "output_type": "stream",
     "text": [
      "ERROR:__main__:type object 'Statics' has no attribute '__obj_count'\n"
     ]
    },
    {
     "name": "stdout",
     "output_type": "stream",
     "text": [
      "2\n"
     ]
    }
   ],
   "source": [
    "class Statics:\n",
    "    \n",
    "    __obj_count = 0\n",
    "    \n",
    "    def __init__(self):\n",
    "        Statics.__obj_count += 1\n",
    "    \n",
    "    @staticmethod\n",
    "    def get_counts():\n",
    "        return Statics.__obj_count;\n",
    "        \n",
    "instance1 = Statics()\n",
    "instance2 = Statics()\n",
    "\n",
    "try:\n",
    "    print(Statics.__obj_count)\n",
    "except AttributeError as error:\n",
    "    logger.error(error)\n",
    "        \n",
    "print(Statics.get_counts())"
   ]
  },
  {
   "cell_type": "markdown",
   "metadata": {},
   "source": [
    "## Inner Classes"
   ]
  },
  {
   "cell_type": "code",
   "execution_count": 25,
   "metadata": {},
   "outputs": [
    {
     "name": "stderr",
     "output_type": "stream",
     "text": [
      "INFO:__main__:name 'Inner' is not defined\n"
     ]
    },
    {
     "name": "stdout",
     "output_type": "stream",
     "text": [
      "My name is 'Outer class instance #1'\n",
      "My name is 'Inner class instance #1'\n"
     ]
    }
   ],
   "source": [
    "class Outer(object):\n",
    "            \n",
    "    def __init__(self, name):\n",
    "        self.__name = name\n",
    "        \n",
    "    @property\n",
    "    def name(self):\n",
    "        return self.__name\n",
    "    \n",
    "    @name.setter\n",
    "    def name(self, name):\n",
    "        self.__name = name\n",
    "        \n",
    "    ## ----------------------------------------------\n",
    "    \n",
    "    class Inner(Outer):\n",
    "        def __init__(self, name):\n",
    "            super().__init__(name)\n",
    "\n",
    "## ----------------------------------------------\n",
    "\n",
    "co = Outer('Outer class instance #1')\n",
    "print(\"My name is '%s'\" % co.name)\n",
    "\n",
    "ci = None\n",
    "\n",
    "try:\n",
    "    ci = Inner()\n",
    "except NameError as error:\n",
    "    logger.info(error)\n",
    "\n",
    "ci = Outer.Inner(\"Inner class instance #1\")\n",
    "print(\"My name is '%s'\" % ci.name)"
   ]
  },
  {
   "cell_type": "markdown",
   "metadata": {},
   "source": [
    "# Encapsulation"
   ]
  },
  {
   "cell_type": "code",
   "execution_count": 49,
   "metadata": {},
   "outputs": [
    {
     "name": "stdout",
     "output_type": "stream",
     "text": [
      "Patient Melisa Pelle : Social # 234523542870\n",
      "Patient Joe Hit : Social # 342508420934\n",
      "Updated Social number for patient Melisa Pelle : Social # 234523542871\n"
     ]
    }
   ],
   "source": [
    "class Patient(object):\n",
    "\n",
    "    def __init__(self, id, name, snn):\n",
    "        super().__init__()\n",
    "        self.__id = id\n",
    "        self.__name = name\n",
    "        self.__snn = snn\n",
    "    \n",
    "    @property\n",
    "    def id(self):\n",
    "        return self.__id\n",
    "    \n",
    "    \n",
    "    @id.setter\n",
    "    def id(self, id):\n",
    "        self.__id = id\n",
    "    \n",
    "    \n",
    "    @property\n",
    "    def name(self):\n",
    "        return self.__name\n",
    "    \n",
    "    \n",
    "    @name.setter\n",
    "    def name(self, name):\n",
    "        self.__name = name\n",
    "    \n",
    "    \n",
    "    @property\n",
    "    def snn(self):\n",
    "        return self.__snn\n",
    "    \n",
    "    \n",
    "    @snn.setter\n",
    "    def snn(self, snn):\n",
    "        self.__snn = snn\n",
    "\n",
    "        \n",
    "patient1 = Patient(100, 'Melisa Pelle', '234523542870')\n",
    "patient2 = Patient(200, 'Joe Hit', '342508420934')\n",
    "\n",
    "print(\"Patient {} : Social # {}\".format(patient1.name, patient1.snn))\n",
    "print(\"Patient {} : Social # {}\".format(patient2.name, patient2.snn))\n",
    "\n",
    "patient1.snn = '234523542871'\n",
    "\n",
    "print(\"Updated Social number for patient {} : Social # {}\".format(patient1.name, patient1.snn))"
   ]
  },
  {
   "cell_type": "markdown",
   "metadata": {},
   "source": [
    "# Inheritance"
   ]
  },
  {
   "cell_type": "code",
   "execution_count": 73,
   "metadata": {},
   "outputs": [
    {
     "name": "stdout",
     "output_type": "stream",
     "text": [
      "White\n",
      "Vehicle door is closed\n",
      "Engine is started\n",
      "Engine is stopped\n",
      "Vehicle door is opened\n",
      "Car door is opened\n"
     ]
    }
   ],
   "source": [
    "class Vehicle(object):\n",
    "\n",
    "    class Engine(object): \n",
    "        def __init__(self, **kwargs):\n",
    "            super().__init__()\n",
    "\n",
    "        def start(self):\n",
    "            print(\"Engine is started\")\n",
    "            \n",
    "        def stop(self):\n",
    "            print(\"Engine is stopped\")\n",
    "        \n",
    "    \n",
    "    def __init__(self, **kwargs):\n",
    "        self.__engine = Vehicle.Engine(**kwargs)\n",
    "        \n",
    "        self.__color = kwargs['color']\n",
    "        self.__seats = kwargs['seats']\n",
    "\n",
    "    @property\n",
    "    def seats(self):\n",
    "        return self.__seats\n",
    "\n",
    "    @seats.setter\n",
    "    def seats(self, seats):\n",
    "        self.__seats = seats\n",
    "    \n",
    "    @property\n",
    "    def engine(self):\n",
    "        return self.__engine\n",
    "\n",
    "    @engine.setter\n",
    "    def engine(self, engine):\n",
    "        self.__engine = engine\n",
    "\n",
    "    @property\n",
    "    def color(self):\n",
    "        return self.__color\n",
    "\n",
    "    @color.setter\n",
    "    def color(self, color):\n",
    "        self.__color = color\n",
    "        \n",
    "    def door_open(self):\n",
    "        print(\"Vehicle door is opened\")\n",
    "        \n",
    "    def door_close(self):\n",
    "        print(\"Vehicle door is closed\")\n",
    "    \n",
    "\n",
    "class Car(Vehicle):\n",
    "    def __init__(self, **kwargs):\n",
    "        Vehicle.__init__(self,  **kwargs)\n",
    "        \n",
    "    def door_open(self):\n",
    "        super().door_open()\n",
    "        print(\"Car door is opened\")\n",
    "\n",
    "\n",
    "class Bus(Vehicle):\n",
    "    def __init__(self,  **kwargs):\n",
    "        Vehicle.__init__(self,  **kwargs)\n",
    "        \n",
    "\n",
    "honda = Car(color=\"White\", seats=10)\n",
    "print(honda.color)\n",
    "\n",
    "honda.door_close()\n",
    "\n",
    "honda.engine.start()\n",
    "honda.engine.stop()\n",
    "\n",
    "honda.door_open()"
   ]
  },
  {
   "cell_type": "markdown",
   "metadata": {},
   "source": [
    "## Polymorphism"
   ]
  },
  {
   "cell_type": "code",
   "execution_count": null,
   "metadata": {},
   "outputs": [],
   "source": []
  }
 ],
 "metadata": {
  "kernelspec": {
   "display_name": "Python 3",
   "language": "python",
   "name": "python3"
  },
  "language_info": {
   "codemirror_mode": {
    "name": "ipython",
    "version": 3
   },
   "file_extension": ".py",
   "mimetype": "text/x-python",
   "name": "python",
   "nbconvert_exporter": "python",
   "pygments_lexer": "ipython3",
   "version": "3.7.0"
  }
 },
 "nbformat": 4,
 "nbformat_minor": 2
}
