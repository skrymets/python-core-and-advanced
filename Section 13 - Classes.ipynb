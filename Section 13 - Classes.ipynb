{
 "cells": [
  {
   "cell_type": "code",
   "execution_count": 11,
   "metadata": {},
   "outputs": [],
   "source": [
    "import logging\n",
    "\n",
    "logging.basicConfig()\n",
    "logger = logging.getLogger(__name__)"
   ]
  },
  {
   "cell_type": "code",
   "execution_count": 2,
   "metadata": {},
   "outputs": [
    {
     "name": "stdout",
     "output_type": "stream",
     "text": [
      "Dog Toy\n"
     ]
    }
   ],
   "source": [
    "class Product(object):\n",
    "    \n",
    "    def __init__(self, id, title, price):\n",
    "        self.id = id\n",
    "        self.title = title\n",
    "        self.price = price\n",
    "\n",
    "        \n",
    "\n",
    "p = Product(100, \"Dog Toy\", 49.99)\n",
    "print(p.title)"
   ]
  },
  {
   "cell_type": "code",
   "execution_count": 3,
   "metadata": {},
   "outputs": [
    {
     "name": "stdout",
     "output_type": "stream",
     "text": [
      "5.357142857142857\n"
     ]
    }
   ],
   "source": [
    "class Course(object):\n",
    "    \n",
    "    def __init__(self, title, ratings):\n",
    "        self.title = title\n",
    "        self.ratings = ratings\n",
    "        \n",
    "    def average(self):\n",
    "        return (sum(self.ratings)/len(self.ratings))\n",
    "    \n",
    "c = Course(\"Python Core and Advanced\", [5,6,7,5,4,3,7,8,4,5,4,8,4,5])\n",
    "print(c.average())\n"
   ]
  },
  {
   "cell_type": "markdown",
   "metadata": {},
   "source": [
    "## Public and Private"
   ]
  },
  {
   "cell_type": "code",
   "execution_count": 4,
   "metadata": {},
   "outputs": [],
   "source": [
    "class A(object):\n",
    "    x = 1\n",
    "\n",
    "    def __init__(self, x):\n",
    "        self.x = x\n",
    "\n",
    "a = A(10)\n",
    "assert a.x == 10"
   ]
  },
  {
   "cell_type": "code",
   "execution_count": 5,
   "metadata": {},
   "outputs": [
    {
     "name": "stderr",
     "output_type": "stream",
     "text": [
      "ERROR:__main__:'B' object has no attribute '__x'\n",
      "ERROR:__main__:'B' object has no attribute '__private_method'\n"
     ]
    },
    {
     "name": "stdout",
     "output_type": "stream",
     "text": [
      "Do something under the hood\n"
     ]
    }
   ],
   "source": [
    "class B(object):\n",
    "    __x = 1\n",
    "\n",
    "    def __init__(self, x):\n",
    "        self.__x = x\n",
    "\n",
    "    def __private_method(self):\n",
    "        print(\"Do something under the hood\")\n",
    "        \n",
    "    def public_method(self):\n",
    "        self.__private_method()\n",
    "        \n",
    "    def get_x(self):\n",
    "        return self.__x\n",
    "\n",
    "b = B(10)\n",
    "\n",
    "try:\n",
    "    assert b.__x == 10\n",
    "except AttributeError as error:\n",
    "    logger.error(error)\n",
    "    \n",
    "try:\n",
    "    b.__private_method()\n",
    "except AttributeError as error:\n",
    "    logger.error(error)\n",
    "    \n",
    "assert b.get_x() == 10\n",
    "b.public_method()"
   ]
  },
  {
   "cell_type": "markdown",
   "metadata": {},
   "source": [
    "## Properties"
   ]
  },
  {
   "cell_type": "markdown",
   "metadata": {},
   "source": [
    "*Unlike* Java, not all Python class' fields are intended to be *private*. For those of them which have to be private or should support *getter/setter* logic - **@property** are introduced.\n",
    "\n",
    "https://www.python-course.eu/python3_properties.php"
   ]
  },
  {
   "cell_type": "code",
   "execution_count": 6,
   "metadata": {},
   "outputs": [
    {
     "name": "stderr",
     "output_type": "stream",
     "text": [
      "ERROR:__main__:'Course' object has no attribute '__title'\n"
     ]
    },
    {
     "name": "stdout",
     "output_type": "stream",
     "text": [
      "Python Core and Advanced\n"
     ]
    }
   ],
   "source": [
    "class Course(object):\n",
    "\n",
    "    def __init__(self, title):\n",
    "        object.__init__(self)\n",
    "        self.__title = title\n",
    "\n",
    "    @property\n",
    "    def title(self):\n",
    "        return self.__title\n",
    "\n",
    "    @title.setter\n",
    "    def title(self, t):\n",
    "        self.__title = t\n",
    "\n",
    "\n",
    "c = Course(\"Python Core and Advanced\")\n",
    "\n",
    "\n",
    "try:\n",
    "    print(c.__title)\n",
    "except AttributeError as error:\n",
    "    logger.error(error)\n",
    "\n",
    "\n",
    "print(c.title)\n"
   ]
  },
  {
   "cell_type": "code",
   "execution_count": 3,
   "metadata": {},
   "outputs": [
    {
     "name": "stdout",
     "output_type": "stream",
     "text": [
      "Some sensitive data\n",
      "Some other sensitive data\n"
     ]
    }
   ],
   "source": [
    "class Statics:\n",
    "    \n",
    "    static_field = \"Some sensitive data\"\n",
    "    \n",
    "    def show_me_the_data(self):\n",
    "        print(self.static_field)\n",
    "        \n",
    "s1 = Statics()\n",
    "s1.show_me_the_data()\n",
    "\n",
    "Statics.static_field = \"Some other sensitive data\"\n",
    "\n",
    "s2 = Statics()\n",
    "s2.show_me_the_data()\n"
   ]
  },
  {
   "cell_type": "code",
   "execution_count": 14,
   "metadata": {},
   "outputs": [
    {
     "name": "stderr",
     "output_type": "stream",
     "text": [
      "ERROR:__main__:type object 'Statics' has no attribute '__obj_count'\n"
     ]
    },
    {
     "name": "stdout",
     "output_type": "stream",
     "text": [
      "2\n"
     ]
    }
   ],
   "source": [
    "class Statics:\n",
    "    \n",
    "    __obj_count = 0\n",
    "    \n",
    "    def __init__(self):\n",
    "        Statics.__obj_count += 1\n",
    "    \n",
    "    @staticmethod\n",
    "    def get_counts():\n",
    "        return Statics.__obj_count;\n",
    "        \n",
    "instance1 = Statics()\n",
    "instance2 = Statics()\n",
    "\n",
    "try:\n",
    "    print(Statics.__obj_count)\n",
    "except AttributeError as error:\n",
    "    logger.error(error)\n",
    "        \n",
    "print(Statics.get_counts())"
   ]
  },
  {
   "cell_type": "code",
   "execution_count": null,
   "metadata": {},
   "outputs": [],
   "source": []
  }
 ],
 "metadata": {
  "kernelspec": {
   "display_name": "Python 3",
   "language": "python",
   "name": "python3"
  },
  "language_info": {
   "codemirror_mode": {
    "name": "ipython",
    "version": 3
   },
   "file_extension": ".py",
   "mimetype": "text/x-python",
   "name": "python",
   "nbconvert_exporter": "python",
   "pygments_lexer": "ipython3",
   "version": "3.7.0"
  }
 },
 "nbformat": 4,
 "nbformat_minor": 2
}
