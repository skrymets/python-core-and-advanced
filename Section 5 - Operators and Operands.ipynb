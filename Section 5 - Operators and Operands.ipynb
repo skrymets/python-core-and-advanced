{
 "cells": [
  {
   "cell_type": "markdown",
   "metadata": {},
   "source": [
    "## Math Operators"
   ]
  },
  {
   "cell_type": "code",
   "execution_count": 1,
   "metadata": {},
   "outputs": [
    {
     "name": "stdout",
     "output_type": "stream",
     "text": [
      "\n",
      "           Sum (a+b): 16\n",
      "  Substraction (a-b): 6\n",
      "Multiplication (a*b): 55\n",
      "      Division (a/b): 2.2\n",
      "        Power (a**b): 161051\n",
      "           Mod (a%b): 1\n",
      "       Floor (a//b) : 2\n",
      "\n"
     ]
    }
   ],
   "source": [
    "a, b = 11, 5\n",
    "\n",
    "tmpl=\"\"\"\n",
    "           Sum (a+b): {}\n",
    "  Substraction (a-b): {}\n",
    "Multiplication (a*b): {}\n",
    "      Division (a/b): {}\n",
    "        Power (a**b): {}\n",
    "           Mod (a%b): {}\n",
    "       Floor (a//b) : {}\n",
    "\"\"\"\n",
    "\n",
    "print(tmpl.format(a+b, a-b, a*b, a/b, a**b, a%b, a//b))"
   ]
  },
  {
   "cell_type": "markdown",
   "metadata": {},
   "source": [
    "## Assignment Operators"
   ]
  },
  {
   "cell_type": "code",
   "execution_count": 2,
   "metadata": {},
   "outputs": [
    {
     "name": "stdout",
     "output_type": "stream",
     "text": [
      "10\n",
      "10 20\n",
      "10 10 10 10\n",
      "11\n",
      "9\n",
      "30\n"
     ]
    }
   ],
   "source": [
    "a = 10\n",
    "print(a)\n",
    "\n",
    "a,b=10,20\n",
    "print(a, b)\n",
    "\n",
    "a=b=c=d=10\n",
    "print(a, b, c, d)\n",
    "\n",
    "a += 1\n",
    "print(a)\n",
    "\n",
    "a -= 2\n",
    "print(a)\n",
    "\n",
    "a=6\n",
    "a*=5\n",
    "print(a)"
   ]
  },
  {
   "cell_type": "markdown",
   "metadata": {},
   "source": [
    "## Comparison Operators"
   ]
  },
  {
   "cell_type": "code",
   "execution_count": 3,
   "metadata": {},
   "outputs": [
    {
     "name": "stdout",
     "output_type": "stream",
     "text": [
      "True\n"
     ]
    }
   ],
   "source": [
    "print(True == True)"
   ]
  },
  {
   "cell_type": "code",
   "execution_count": 4,
   "metadata": {},
   "outputs": [
    {
     "name": "stdout",
     "output_type": "stream",
     "text": [
      "\n",
      "a == b: False\n",
      " a > b: False\n",
      " a < b: True\n",
      "a >= b: False\n",
      "a <= b: True\n",
      "c == d: True\n",
      "c != d: False\n",
      "\n"
     ]
    }
   ],
   "source": [
    "a, b = 1, 2\n",
    "c, d = 1, 1\n",
    "\n",
    "template=\"\"\"\n",
    "a == b: {}\n",
    " a > b: {}\n",
    " a < b: {}\n",
    "a >= b: {}\n",
    "a <= b: {}\n",
    "c == d: {}\n",
    "c != d: {}\n",
    "\"\"\"\n",
    "\n",
    "print(template.format(a == b, a > b, a < b, a >= b, a <= b, c == d, c != d))\n"
   ]
  },
  {
   "cell_type": "code",
   "execution_count": null,
   "metadata": {},
   "outputs": [],
   "source": []
  },
  {
   "cell_type": "code",
   "execution_count": null,
   "metadata": {},
   "outputs": [],
   "source": []
  }
 ],
 "metadata": {
  "kernelspec": {
   "display_name": "Python 3",
   "language": "python",
   "name": "python3"
  },
  "language_info": {
   "codemirror_mode": {
    "name": "ipython",
    "version": 3
   },
   "file_extension": ".py",
   "mimetype": "text/x-python",
   "name": "python",
   "nbconvert_exporter": "python",
   "pygments_lexer": "ipython3",
   "version": "3.7.0"
  }
 },
 "nbformat": 4,
 "nbformat_minor": 2
}
