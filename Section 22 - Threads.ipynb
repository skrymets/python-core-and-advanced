{
 "cells": [
  {
   "cell_type": "code",
   "execution_count": 28,
   "metadata": {},
   "outputs": [],
   "source": [
    "## https://docs.python.org/3/library/threading.html"
   ]
  },
  {
   "cell_type": "code",
   "execution_count": 5,
   "metadata": {},
   "outputs": [],
   "source": [
    "import threading\n",
    "from threading import Thread\n",
    "\n",
    "import logging\n",
    "\n",
    "FORMAT = '%(asctime)-15s %(threadName)s: %(message)s'\n",
    "\n",
    "logging.basicConfig(level=logging.INFO, format=FORMAT)\n",
    "logger = logging.getLogger(__name__)"
   ]
  },
  {
   "cell_type": "code",
   "execution_count": 6,
   "metadata": {},
   "outputs": [
    {
     "name": "stderr",
     "output_type": "stream",
     "text": [
      "2018-09-04 15:12:23,511 MyThread: Exit the thead\n"
     ]
    },
    {
     "name": "stdout",
     "output_type": "stream",
     "text": [
      "Now I am running IN  the main thread\n",
      "Now I am running NOT IN  the main thread\n",
      "Performing some actions ... \n"
     ]
    }
   ],
   "source": [
    "def where_am_i():\n",
    "    print(\"Now I am running %s the main thread\" % ('IN ' if threading.current_thread() == threading.main_thread() else 'NOT IN '))\n",
    "\n",
    "def heavy_work():\n",
    "    int_log = logging.getLogger(__name__)\n",
    "    where_am_i()\n",
    "    print(\"Performing some actions ... \")\n",
    "    int_log.info(\"Exit the thead\")\n",
    "    \n",
    "    \n",
    "where_am_i()\n",
    "    \n",
    "t = Thread(name='MyThread', target=heavy_work)\n",
    "t.start()\n",
    "\n",
    "\n"
   ]
  },
  {
   "cell_type": "code",
   "execution_count": 7,
   "metadata": {},
   "outputs": [
    {
     "name": "stdout",
     "output_type": "stream",
     "text": [
      "This is actually what this thread is doing...\n"
     ]
    }
   ],
   "source": [
    "\n",
    "class MyThread(Thread):\n",
    "    def __init__(self):\n",
    "        super().__init__()\n",
    "        \n",
    "    def run(self):\n",
    "        print(\"This is actually what this thread is doing...\")\n",
    "        \n",
    "        \n",
    "mt = MyThread()\n",
    "mt.start()"
   ]
  },
  {
   "cell_type": "code",
   "execution_count": 39,
   "metadata": {},
   "outputs": [
    {
     "name": "stderr",
     "output_type": "stream",
     "text": [
      "2018-09-04 15:34:33,058 Cashier #1: Solding out a ticket #01 ...\n",
      "2018-09-04 15:34:33,068 Cashier #1: Ticket #01 is sold now\n",
      "2018-09-04 15:34:33,068 Cashier #2: Solding out a ticket #02 ...\n",
      "2018-09-04 15:34:33,077 Cashier #2: Ticket #02 is sold now\n",
      "2018-09-04 15:34:33,078 Cashier #3: Solding out a ticket #03 ...\n",
      "2018-09-04 15:34:33,087 Cashier #3: Ticket #03 is sold now\n",
      "2018-09-04 15:34:33,088 Cashier #1: Solding out a ticket #04 ...\n",
      "2018-09-04 15:34:33,094 Cashier #1: Ticket #04 is sold now\n",
      "2018-09-04 15:34:33,094 Cashier #2: Solding out a ticket #05 ...\n",
      "2018-09-04 15:34:33,101 Cashier #2: Ticket #05 is sold now\n",
      "2018-09-04 15:34:33,102 Cashier #3: Solding out a ticket #06 ...\n",
      "2018-09-04 15:34:33,108 Cashier #3: Ticket #06 is sold now\n",
      "2018-09-04 15:34:33,109 Cashier #1: Solding out a ticket #07 ...\n",
      "2018-09-04 15:34:33,116 Cashier #1: Ticket #07 is sold now\n",
      "2018-09-04 15:34:33,117 Cashier #2: Solding out a ticket #08 ...\n",
      "2018-09-04 15:34:33,124 Cashier #2: Ticket #08 is sold now\n",
      "2018-09-04 15:34:33,125 Cashier #3: Solding out a ticket #09 ...\n",
      "2018-09-04 15:34:33,133 Cashier #3: Ticket #09 is sold now\n",
      "2018-09-04 15:34:33,133 Cashier #1: Solding out a ticket #10 ...\n",
      "2018-09-04 15:34:33,140 Cashier #1: Ticket #10 is sold now\n",
      "2018-09-04 15:34:33,141 Cashier #2: Solding out a ticket #11 ...\n",
      "2018-09-04 15:34:33,148 Cashier #2: Ticket #11 is sold now\n",
      "2018-09-04 15:34:33,149 Cashier #3: Solding out a ticket #12 ...\n",
      "2018-09-04 15:34:33,155 Cashier #3: Ticket #12 is sold now\n",
      "2018-09-04 15:34:33,155 Cashier #1: Solding out a ticket #13 ...\n",
      "2018-09-04 15:34:33,162 Cashier #1: Ticket #13 is sold now\n",
      "2018-09-04 15:34:33,163 Cashier #2: Solding out a ticket #14 ...\n",
      "2018-09-04 15:34:33,170 Cashier #2: Ticket #14 is sold now\n",
      "2018-09-04 15:34:33,170 Cashier #3: Solding out a ticket #15 ...\n",
      "2018-09-04 15:34:33,177 Cashier #3: Ticket #15 is sold now\n",
      "2018-09-04 15:34:33,178 Cashier #1: Solding out a ticket #16 ...\n",
      "2018-09-04 15:34:33,185 Cashier #1: Ticket #16 is sold now\n",
      "2018-09-04 15:34:33,185 Cashier #2: Solding out a ticket #17 ...\n",
      "2018-09-04 15:34:33,192 Cashier #2: Ticket #17 is sold now\n",
      "2018-09-04 15:34:33,194 Cashier #3: Solding out a ticket #18 ...\n",
      "2018-09-04 15:34:33,200 Cashier #3: Ticket #18 is sold now\n",
      "2018-09-04 15:34:33,201 Cashier #1: Solding out a ticket #19 ...\n",
      "2018-09-04 15:34:33,207 Cashier #1: Ticket #19 is sold now\n",
      "2018-09-04 15:34:33,209 Cashier #2: Solding out a ticket #20 ...\n",
      "2018-09-04 15:34:33,216 Cashier #2: Ticket #20 is sold now\n",
      "2018-09-04 15:34:33,217 Cashier #3: No more tickets left. The cashier is closing now ...\n",
      "2018-09-04 15:34:33,217 Cashier #1: No more tickets left. The cashier is closing now ...\n",
      "2018-09-04 15:34:33,219 Cashier #2: No more tickets left. The cashier is closing now ...\n"
     ]
    }
   ],
   "source": [
    "import threading\n",
    "import time\n",
    "from threading import Lock\n",
    "\n",
    "## A bus seats booking\n",
    "## Actions: Book, pay, confirm\n",
    "\n",
    "\n",
    "def remaining_seats(initial):\n",
    "    if initial <= 0:\n",
    "        return None\n",
    "    \n",
    "    number = 1\n",
    "    while number <= initial:\n",
    "        yield (\"#{0:0\" + str(len(str(initial))) + \"d}\").format(number)\n",
    "        number += 1\n",
    "        \n",
    "    return None\n",
    "\n",
    "class Cashier(Thread):    \n",
    "    def __init__(self, lock, seats, cashier_name):\n",
    "        super().__init__(name=cashier_name)\n",
    "        self.lock = lock\n",
    "        self.seats = seats\n",
    "        \n",
    "        \n",
    "    def run(self):\n",
    "\n",
    "        while True:\n",
    "            self.lock.acquire()\n",
    "            try:\n",
    "                ticket = next(bus_seats)\n",
    "                logger.info(\"Solding out a ticket %s ...\" % ticket)\n",
    "                time.sleep(0.005)\n",
    "                logger.info(\"Ticket %s is sold now\" % ticket)\n",
    "            except StopIteration as sierr:\n",
    "                logger.info(\"No more tickets left. The cashier is closing now ...\")\n",
    "                return;\n",
    "            finally:\n",
    "                self.lock.release()\n",
    "\n",
    "            time.sleep(0.001)\n",
    "        \n",
    "        \n",
    "bus_seats = remaining_seats(20)\n",
    "booking_lock = Lock()\n",
    "\n",
    "c1 = Cashier(booking_lock, bus_seats, \"Cashier #1\")\n",
    "c2 = Cashier(booking_lock, bus_seats, \"Cashier #2\")\n",
    "c3 = Cashier(booking_lock, bus_seats, \"Cashier #3\")\n",
    "\n",
    "c1.start()\n",
    "c2.start()\n",
    "c3.start()"
   ]
  },
  {
   "cell_type": "code",
   "execution_count": 44,
   "metadata": {},
   "outputs": [
    {
     "name": "stdout",
     "output_type": "stream",
     "text": [
      "Hello from thread\n"
     ]
    }
   ],
   "source": [
    "\n",
    "class SimpleThread():\n",
    "    def work(self, a):\n",
    "        print(a)\n",
    "        \n",
    "st = SimpleThread()\n",
    "        \n",
    "Thread(target=st.work, args=('Hello from thread',)).start()\n",
    "\n"
   ]
  },
  {
   "cell_type": "code",
   "execution_count": 48,
   "metadata": {},
   "outputs": [
    {
     "name": "stderr",
     "output_type": "stream",
     "text": [
      "Exception in thread Consumer Thread:\n",
      "Traceback (most recent call last):\n",
      "  File \"c:\\opt\\python\\3.7\\lib\\threading.py\", line 917, in _bootstrap_inner\n",
      "    self.run()\n",
      "  File \"<ipython-input-48-bc23b9f9a820>\", line 48, in run\n",
      "    cv.wait_for(self.__channel.ready)\n",
      "  File \"c:\\opt\\python\\3.7\\lib\\threading.py\", line 322, in wait_for\n",
      "    result = predicate()\n",
      "TypeError: 'bool' object is not callable\n",
      "\n"
     ]
    }
   ],
   "source": [
    "\n",
    "from threading import Condition\n",
    "\n",
    "class Channel():\n",
    "\n",
    "    def __init__(self):\n",
    "        self.__data = None\n",
    "        \n",
    "    @property\n",
    "    def ready(self):\n",
    "        return self.__data is not None\n",
    "\n",
    "    @property\n",
    "    def data(self):\n",
    "        d = self.__data\n",
    "        self.__data = None\n",
    "        return d\n",
    "    \n",
    "    @data.setter\n",
    "    def data(self, data):\n",
    "        self.__data = data\n",
    "    \n",
    "\n",
    "class Producer(Thread):\n",
    "    def __init__(self, condition, channel):\n",
    "        super().__init__()\n",
    "        self.name=\"Producer Thread\"\n",
    "        self.__condition = condition\n",
    "        self.__channel = channel\n",
    "\n",
    "    \n",
    "    def run(self):\n",
    "        time.sleep(1)\n",
    "        with self.__condition:\n",
    "            self.__channel.data = \"DATA 34-0563-0\"\n",
    "    \n",
    "\n",
    "class Consumer(Thread):\n",
    "    def __init__(self, condition, channel):\n",
    "        super().__init__()\n",
    "        self.name=\"Consumer Thread\"\n",
    "        self.__condition= condition\n",
    "        self.__channel = channel\n",
    "\n",
    "    \n",
    "    def run(self):\n",
    "        with self.__condition:\n",
    "            cv.wait_for(self.__channel.ready)\n",
    "            data = self.__channel.data\n",
    "            print(data)\n",
    "\n",
    "\n",
    "cv = Condition()\n",
    "ch = Channel()\n",
    "\n",
    "p = Producer(cv, ch)\n",
    "c = Consumer(cv, ch)\n",
    "\n",
    "c.start()\n",
    "p.start()\n",
    "\n"
   ]
  },
  {
   "cell_type": "code",
   "execution_count": null,
   "metadata": {},
   "outputs": [],
   "source": []
  }
 ],
 "metadata": {
  "kernelspec": {
   "display_name": "Python 3",
   "language": "python",
   "name": "python3"
  },
  "language_info": {
   "codemirror_mode": {
    "name": "ipython",
    "version": 3
   },
   "file_extension": ".py",
   "mimetype": "text/x-python",
   "name": "python",
   "nbconvert_exporter": "python",
   "pygments_lexer": "ipython3",
   "version": "3.7.0"
  }
 },
 "nbformat": 4,
 "nbformat_minor": 2
}
