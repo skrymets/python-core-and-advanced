{
 "cells": [
  {
   "cell_type": "code",
   "execution_count": 1,
   "metadata": {},
   "outputs": [],
   "source": [
    "import threading\n",
    "from threading import Thread\n",
    "\n",
    "import logging\n",
    "\n",
    "FORMAT = '%(asctime)-15s %(threadName)s %(message)s'\n",
    "\n",
    "logging.basicConfig(level=logging.INFO)\n",
    "logger = logging.getLogger(__name__)"
   ]
  },
  {
   "cell_type": "code",
   "execution_count": 2,
   "metadata": {},
   "outputs": [
    {
     "name": "stderr",
     "output_type": "stream",
     "text": [
      "INFO:__main__:Exit the thead\n"
     ]
    },
    {
     "name": "stdout",
     "output_type": "stream",
     "text": [
      "Now I am running IN  the main thread\n",
      "Now I am running NOT IN  the main thread\n",
      "Performing some actions ... \n"
     ]
    }
   ],
   "source": [
    "def where_am_i():\n",
    "    print(\"Now I am running %s the main thread\" % ('IN ' if threading.current_thread() == threading.main_thread() else 'NOT IN '))\n",
    "\n",
    "def heavy_work():\n",
    "    int_log = logging.getLogger(__name__)\n",
    "    where_am_i()\n",
    "    print(\"Performing some actions ... \")\n",
    "    int_log.info(\"Exit the thead\")\n",
    "    \n",
    "    \n",
    "where_am_i()\n",
    "    \n",
    "t = Thread(name='MyThread', target=heavy_work)\n",
    "t.start()\n",
    "\n",
    "\n"
   ]
  },
  {
   "cell_type": "code",
   "execution_count": 4,
   "metadata": {},
   "outputs": [
    {
     "name": "stdout",
     "output_type": "stream",
     "text": [
      "This is actually what this thread is doing...\n"
     ]
    }
   ],
   "source": [
    "\n",
    "class MyThread(Thread):\n",
    "    def __init__(self):\n",
    "        super().__init__()\n",
    "        \n",
    "    def run(self):\n",
    "        print(\"This is actually what this thread is doing...\")\n",
    "        \n",
    "        \n",
    "mt = MyThread()\n",
    "mt.start()"
   ]
  },
  {
   "cell_type": "code",
   "execution_count": 14,
   "metadata": {},
   "outputs": [
    {
     "name": "stdout",
     "output_type": "stream",
     "text": [
      "#010\n",
      "#009\n",
      "#008\n",
      "#007\n",
      "#006\n",
      "#005\n",
      "#004\n",
      "#003\n",
      "#002\n",
      "#001\n"
     ]
    }
   ],
   "source": [
    "\n",
    "## A bus seats booking\n",
    "## Actions: Book, pay, confirm\n",
    "\n",
    "\n",
    "def remaining_seats(initial):\n",
    "    if initial <= 0:\n",
    "        return None\n",
    "    \n",
    "    remaining = initial\n",
    "    while remaining > 0:\n",
    "        yield \"#{0:03d}\".format(remaining)\n",
    "        remaining -= 1\n",
    "        \n",
    "    return None\n",
    "\n",
    "for seat in (x for x in remaining_seats(10)):\n",
    "    print(seat)\n"
   ]
  },
  {
   "cell_type": "code",
   "execution_count": null,
   "metadata": {},
   "outputs": [],
   "source": []
  }
 ],
 "metadata": {
  "kernelspec": {
   "display_name": "Python 3",
   "language": "python",
   "name": "python3"
  },
  "language_info": {
   "codemirror_mode": {
    "name": "ipython",
    "version": 3
   },
   "file_extension": ".py",
   "mimetype": "text/x-python",
   "name": "python",
   "nbconvert_exporter": "python",
   "pygments_lexer": "ipython3",
   "version": "3.7.0"
  }
 },
 "nbformat": 4,
 "nbformat_minor": 2
}
