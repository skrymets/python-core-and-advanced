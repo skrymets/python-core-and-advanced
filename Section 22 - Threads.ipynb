{
 "cells": [
  {
   "cell_type": "code",
   "execution_count": null,
   "metadata": {},
   "outputs": [],
   "source": [
    "## https://docs.python.org/3/library/threading.html"
   ]
  },
  {
   "cell_type": "code",
   "execution_count": 4,
   "metadata": {},
   "outputs": [],
   "source": [
    "import threading\n",
    "from threading import Thread\n",
    "\n",
    "import logging\n",
    "\n",
    "FORMAT = '%(asctime)-15s %(threadName)s: %(message)s'\n",
    "\n",
    "logging.basicConfig(level=logging.INFO, format=FORMAT)\n",
    "logger = logging.getLogger(__name__)"
   ]
  },
  {
   "cell_type": "code",
   "execution_count": 5,
   "metadata": {},
   "outputs": [
    {
     "name": "stdout",
     "output_type": "stream",
     "text": [
      "Now I am running IN  the main thread\n",
      "Now I am running NOT IN  the main thread\n",
      "Performing some actions ... \n"
     ]
    },
    {
     "name": "stderr",
     "output_type": "stream",
     "text": [
      "2018-09-05 11:35:48,979 MyThread: Exit the thead\n"
     ]
    }
   ],
   "source": [
    "def where_am_i():\n",
    "    print(\"Now I am running %s the main thread\" % ('IN ' if threading.current_thread() == threading.main_thread() else 'NOT IN '))\n",
    "\n",
    "def heavy_work():\n",
    "    int_log = logging.getLogger(__name__)\n",
    "    where_am_i()\n",
    "    print(\"Performing some actions ... \")\n",
    "    int_log.info(\"Exit the thead\")\n",
    "    \n",
    "    \n",
    "where_am_i()\n",
    "    \n",
    "t = Thread(name='MyThread', target=heavy_work)\n",
    "t.start()\n",
    "\n",
    "\n"
   ]
  },
  {
   "cell_type": "code",
   "execution_count": 6,
   "metadata": {},
   "outputs": [
    {
     "name": "stdout",
     "output_type": "stream",
     "text": [
      "This is actually what this thread is doing...\n"
     ]
    }
   ],
   "source": [
    "\n",
    "class MyThread(Thread):\n",
    "    def __init__(self):\n",
    "        super().__init__()\n",
    "        \n",
    "    def run(self):\n",
    "        print(\"This is actually what this thread is doing...\")\n",
    "        \n",
    "        \n",
    "mt = MyThread()\n",
    "mt.start()"
   ]
  },
  {
   "cell_type": "code",
   "execution_count": 7,
   "metadata": {},
   "outputs": [
    {
     "name": "stdout",
     "output_type": "stream",
     "text": [
      "Hello from thread\n"
     ]
    }
   ],
   "source": [
    "\n",
    "class SimpleThread():\n",
    "    def work(self, a):\n",
    "        print(a)\n",
    "        \n",
    "st = SimpleThread()\n",
    "        \n",
    "Thread(target=st.work, args=('Hello from thread',)).start()\n",
    "\n"
   ]
  },
  {
   "cell_type": "code",
   "execution_count": 8,
   "metadata": {},
   "outputs": [
    {
     "name": "stderr",
     "output_type": "stream",
     "text": [
      "2018-09-05 11:35:55,093 Cashier #1: Solding out a ticket #01 ...\n",
      "2018-09-05 11:35:55,102 Cashier #1: Ticket #01 is sold now\n",
      "2018-09-05 11:35:55,102 Cashier #2: Solding out a ticket #02 ...\n",
      "2018-09-05 11:35:55,110 Cashier #2: Ticket #02 is sold now\n",
      "2018-09-05 11:35:55,110 Cashier #3: Solding out a ticket #03 ...\n",
      "2018-09-05 11:35:55,118 Cashier #3: Ticket #03 is sold now\n",
      "2018-09-05 11:35:55,118 Cashier #1: Solding out a ticket #04 ...\n",
      "2018-09-05 11:35:55,125 Cashier #1: Ticket #04 is sold now\n",
      "2018-09-05 11:35:55,125 Cashier #2: Solding out a ticket #05 ...\n",
      "2018-09-05 11:35:55,132 Cashier #2: Ticket #05 is sold now\n",
      "2018-09-05 11:35:55,132 Cashier #3: Solding out a ticket #06 ...\n",
      "2018-09-05 11:35:55,139 Cashier #3: Ticket #06 is sold now\n",
      "2018-09-05 11:35:55,139 Cashier #1: Solding out a ticket #07 ...\n",
      "2018-09-05 11:35:55,146 Cashier #1: Ticket #07 is sold now\n",
      "2018-09-05 11:35:55,146 Cashier #2: Solding out a ticket #08 ...\n",
      "2018-09-05 11:35:55,153 Cashier #2: Ticket #08 is sold now\n",
      "2018-09-05 11:35:55,154 Cashier #3: Solding out a ticket #09 ...\n",
      "2018-09-05 11:35:55,160 Cashier #3: Ticket #09 is sold now\n",
      "2018-09-05 11:35:55,161 Cashier #1: Solding out a ticket #10 ...\n",
      "2018-09-05 11:35:55,168 Cashier #1: Ticket #10 is sold now\n",
      "2018-09-05 11:35:55,168 Cashier #2: Solding out a ticket #11 ...\n",
      "2018-09-05 11:35:55,175 Cashier #2: Ticket #11 is sold now\n",
      "2018-09-05 11:35:55,176 Cashier #3: Solding out a ticket #12 ...\n",
      "2018-09-05 11:35:55,183 Cashier #3: Ticket #12 is sold now\n",
      "2018-09-05 11:35:55,183 Cashier #1: Solding out a ticket #13 ...\n",
      "2018-09-05 11:35:55,190 Cashier #1: Ticket #13 is sold now\n",
      "2018-09-05 11:35:55,191 Cashier #2: Solding out a ticket #14 ...\n",
      "2018-09-05 11:35:55,197 Cashier #2: Ticket #14 is sold now\n",
      "2018-09-05 11:35:55,197 Cashier #3: Solding out a ticket #15 ...\n",
      "2018-09-05 11:35:55,204 Cashier #3: Ticket #15 is sold now\n",
      "2018-09-05 11:35:55,204 Cashier #1: Solding out a ticket #16 ...\n",
      "2018-09-05 11:35:55,211 Cashier #1: Ticket #16 is sold now\n",
      "2018-09-05 11:35:55,213 Cashier #2: Solding out a ticket #17 ...\n",
      "2018-09-05 11:35:55,220 Cashier #2: Ticket #17 is sold now\n",
      "2018-09-05 11:35:55,220 Cashier #3: Solding out a ticket #18 ...\n",
      "2018-09-05 11:35:55,227 Cashier #3: Ticket #18 is sold now\n",
      "2018-09-05 11:35:55,229 Cashier #1: Solding out a ticket #19 ...\n",
      "2018-09-05 11:35:55,235 Cashier #1: Ticket #19 is sold now\n",
      "2018-09-05 11:35:55,235 Cashier #2: Solding out a ticket #20 ...\n",
      "2018-09-05 11:35:55,242 Cashier #2: Ticket #20 is sold now\n",
      "2018-09-05 11:35:55,244 Cashier #3: No more tickets left. The cashier is closing now ...\n",
      "2018-09-05 11:35:55,246 Cashier #1: No more tickets left. The cashier is closing now ...\n",
      "2018-09-05 11:35:55,247 Cashier #2: No more tickets left. The cashier is closing now ...\n"
     ]
    }
   ],
   "source": [
    "import threading\n",
    "import time\n",
    "from threading import Lock\n",
    "\n",
    "## A bus seats booking\n",
    "## Actions: Book, pay, confirm\n",
    "\n",
    "\n",
    "def remaining_seats(initial):\n",
    "    if initial <= 0:\n",
    "        return None\n",
    "    \n",
    "    number = 1\n",
    "    while number <= initial:\n",
    "        yield (\"#{0:0\" + str(len(str(initial))) + \"d}\").format(number)\n",
    "        number += 1\n",
    "        \n",
    "    return None\n",
    "\n",
    "class Cashier(Thread):    \n",
    "    def __init__(self, lock, seats, cashier_name):\n",
    "        super().__init__(name=cashier_name)\n",
    "        self.lock = lock\n",
    "        self.seats = seats\n",
    "        \n",
    "        \n",
    "    def run(self):\n",
    "\n",
    "        while True:\n",
    "            self.lock.acquire()\n",
    "            try:\n",
    "                ticket = next(bus_seats)\n",
    "                logger.info(\"Solding out a ticket %s ...\" % ticket)\n",
    "                time.sleep(0.005)\n",
    "                logger.info(\"Ticket %s is sold now\" % ticket)\n",
    "            except StopIteration as sierr:\n",
    "                logger.info(\"No more tickets left. The cashier is closing now ...\")\n",
    "                return;\n",
    "            finally:\n",
    "                self.lock.release()\n",
    "\n",
    "            time.sleep(0.001)\n",
    "        \n",
    "        \n",
    "bus_seats = remaining_seats(20)\n",
    "booking_lock = Lock()\n",
    "\n",
    "c1 = Cashier(booking_lock, bus_seats, \"Cashier #1\")\n",
    "c2 = Cashier(booking_lock, bus_seats, \"Cashier #2\")\n",
    "c3 = Cashier(booking_lock, bus_seats, \"Cashier #3\")\n",
    "\n",
    "c1.start()\n",
    "c2.start()\n",
    "c3.start()"
   ]
  },
  {
   "cell_type": "code",
   "execution_count": 6,
   "metadata": {},
   "outputs": [
    {
     "name": "stderr",
     "output_type": "stream",
     "text": [
      "2018-09-05 11:14:42,574 Consumer Thread: Start\n",
      "2018-09-05 11:14:42,577 Producer Thread: Start\n",
      "2018-09-05 11:14:42,577 Consumer Thread: Waiting for data ... \n",
      "2018-09-05 11:14:44,583 Consumer Thread: Consume DATA: DATA 34-0563-0\n"
     ]
    }
   ],
   "source": [
    "\n",
    "from threading import Condition\n",
    "\n",
    "class Channel():\n",
    "\n",
    "    def __init__(self):\n",
    "        self.__data = None\n",
    "        \n",
    "    @property\n",
    "    def ready(self):\n",
    "        return self.__data is not None\n",
    "\n",
    "    @property\n",
    "    def data(self):\n",
    "        d = self.__data\n",
    "        self.__data = None\n",
    "        return d\n",
    "    \n",
    "    @data.setter\n",
    "    def data(self, data):\n",
    "        self.__data = data\n",
    "    \n",
    "\n",
    "class Producer(Thread):\n",
    "    def __init__(self, condition, channel):\n",
    "        super().__init__()\n",
    "        self.name=\"Producer Thread\"\n",
    "        self.__condition = condition\n",
    "        self.__channel = channel\n",
    "\n",
    "    \n",
    "    def run(self):\n",
    "        logger.info(\"Start\")\n",
    "        with self.__condition:\n",
    "            self.__channel.data = \"DATA 34-0563-0\"\n",
    "            self.__condition.notify()\n",
    "            time.sleep(2)\n",
    "    \n",
    "\n",
    "class Consumer(Thread):\n",
    "    def __init__(self, condition, channel):\n",
    "        super().__init__()\n",
    "        self.name=\"Consumer Thread\"\n",
    "        self.__condition= condition\n",
    "        self.__channel = channel\n",
    "\n",
    "    \n",
    "    def run(self):\n",
    "        logger.info(\"Start\")\n",
    "        with self.__condition:\n",
    "            logger.info(\"Waiting for data ... \")\n",
    "            cv.wait()\n",
    "            logger.info(\"Consume DATA: %s\" % self.__channel.data)\n",
    "\n",
    "\n",
    "cv = Condition()\n",
    "ch = Channel()\n",
    "\n",
    "p = Producer(cv, ch)\n",
    "c = Consumer(cv, ch)\n",
    "\n",
    "c.start()\n",
    "p.start()\n",
    "\n"
   ]
  },
  {
   "cell_type": "code",
   "execution_count": 10,
   "metadata": {},
   "outputs": [
    {
     "name": "stderr",
     "output_type": "stream",
     "text": [
      "2018-09-05 11:38:40,150 Odd Numbers Thread: Starting ... \n",
      "2018-09-05 11:38:40,153 Even Numbers Thread: Starting ... \n",
      "2018-09-05 11:38:40,160 Odd Numbers Thread: Finished.\n",
      "2018-09-05 11:38:40,161 Even Numbers Thread: Finished.\n"
     ]
    },
    {
     "name": "stdout",
     "output_type": "stream",
     "text": [
      "[1, 2, 3, 4, 5, 6, 7, 8, 9, 10, 11, 12, 13, 14, 15, 16, 17, 18, 19, 20, 21, 22, 23, 24, 25, 26, 27, 28, 29, 30, 31, 32, 33, 34, 35, 36, 37, 38, 39, 40, 41, 42, 43, 44, 45, 46, 47, 48, 49, 50, 51, 52, 53, 54, 55, 56, 57, 58, 59, 60, 61, 62, 63, 64, 65, 66, 67, 68, 69, 70, 71, 72, 73, 74, 75, 76, 77, 78, 79, 80, 81, 82, 83, 84, 85, 86, 87, 88, 89, 90, 91, 92, 93, 94, 95, 96, 97, 98, 99, 100]\n"
     ]
    }
   ],
   "source": [
    "from threading import Condition\n",
    "\n",
    "order_lock = Condition()\n",
    "numbers = []\n",
    "\n",
    "class NumbersThread(Thread):\n",
    "    \n",
    "    def __init__(self, name, condition, numbers, odd, highest):\n",
    "        super().__init__(name=name)\n",
    "        self.__condition = condition\n",
    "        self.__numbers = numbers\n",
    "        self.__number = 1 if odd else 2\n",
    "        self.__highest = highest\n",
    "    \n",
    "    def run(self):\n",
    "        logger.info(\"Starting ... \")\n",
    "        while True:\n",
    "            with self.__condition:            \n",
    "                if not self.__number > self.__highest:\n",
    "                    numbers.append(self.__number)\n",
    "                    self.__number += 2\n",
    "                else:\n",
    "                    self.__condition.notify()\n",
    "                    break\n",
    "                    \n",
    "                self.__condition.notify()\n",
    "                self.__condition.wait()\n",
    "                \n",
    "        logger.info(\"Finished.\")\n",
    "        \n",
    "\n",
    "class EvenNumbersThread(NumbersThread):\n",
    "    \n",
    "    def __init__(self, condition, numbers, highest):\n",
    "        super().__init__(name=\"Even Numbers Thread\", condition=condition, numbers=numbers, odd=False, highest=highest)\n",
    "    \n",
    "\n",
    "class OddNumbersThread(NumbersThread):\n",
    "    \n",
    "    def __init__(self, condition, numbers, highest):\n",
    "        super().__init__(name=\"Odd Numbers Thread\", condition=condition, numbers=numbers, odd=True, highest=highest)\n",
    "        \n",
    "\n",
    "ont = OddNumbersThread(condition=order_lock, numbers=numbers, highest=100)\n",
    "ent = EvenNumbersThread(condition=order_lock, numbers=numbers, highest=100)\n",
    "\n",
    "ont.start()\n",
    "ent.start()\n",
    "\n",
    "ent.join()\n",
    "\n",
    "print(numbers)\n",
    "    \n"
   ]
  },
  {
   "cell_type": "code",
   "execution_count": null,
   "metadata": {},
   "outputs": [],
   "source": []
  }
 ],
 "metadata": {
  "kernelspec": {
   "display_name": "Python 3",
   "language": "python",
   "name": "python3"
  },
  "language_info": {
   "codemirror_mode": {
    "name": "ipython",
    "version": 3
   },
   "file_extension": ".py",
   "mimetype": "text/x-python",
   "name": "python",
   "nbconvert_exporter": "python",
   "pygments_lexer": "ipython3",
   "version": "3.7.0"
  }
 },
 "nbformat": 4,
 "nbformat_minor": 2
}
