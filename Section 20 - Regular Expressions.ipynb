{
 "cells": [
  {
   "cell_type": "code",
   "execution_count": 20,
   "metadata": {},
   "outputs": [],
   "source": [
    "import re\n",
    "\n",
    "# https://docs.python.org/3/library/re.html"
   ]
  },
  {
   "cell_type": "code",
   "execution_count": 34,
   "metadata": {},
   "outputs": [
    {
     "name": "stdout",
     "output_type": "stream",
     "text": [
      "one\n"
     ]
    }
   ],
   "source": [
    "str = \"Take one idea. One idea at a time, and on time\"\n",
    "\n",
    "result = re.search(r'[o|O]\\w+', str)\n",
    "\n",
    "if result: \n",
    "    print(result.group())\n",
    "else:\n",
    "    print(\"Nothing was found\")"
   ]
  },
  {
   "cell_type": "code",
   "execution_count": 39,
   "metadata": {},
   "outputs": [
    {
     "name": "stdout",
     "output_type": "stream",
     "text": [
      "<class 'list'> ['one', 'One', 'on']\n"
     ]
    }
   ],
   "source": [
    "str = \"Take one idea. One idea at a time, and on time\"\n",
    "\n",
    "result = re.findall(r'[o|O][\\w]{1,3}', str)\n",
    "\n",
    "print(type(result), result)"
   ]
  },
  {
   "cell_type": "code",
   "execution_count": 27,
   "metadata": {},
   "outputs": [
    {
     "name": "stdout",
     "output_type": "stream",
     "text": [
      "['Take', 'one', 'idea.', 'One', 'idea', 'at', 'a', 'time']\n"
     ]
    }
   ],
   "source": [
    "result = re.split(r'\\s+', str)\n",
    "\n",
    "print(result)"
   ]
  },
  {
   "cell_type": "code",
   "execution_count": 41,
   "metadata": {},
   "outputs": [
    {
     "name": "stdout",
     "output_type": "stream",
     "text": [
      "A personal sensitive data: +*** (**) ***-**-**\n"
     ]
    }
   ],
   "source": [
    "str = 'A personal sensitive data: +380 (97) 120-45-67'\n",
    "\n",
    "result = re.sub(r'\\d', '*', str)\n",
    "print(result)"
   ]
  },
  {
   "cell_type": "code",
   "execution_count": null,
   "metadata": {},
   "outputs": [],
   "source": []
  }
 ],
 "metadata": {
  "kernelspec": {
   "display_name": "Python 3",
   "language": "python",
   "name": "python3"
  },
  "language_info": {
   "codemirror_mode": {
    "name": "ipython",
    "version": 3
   },
   "file_extension": ".py",
   "mimetype": "text/x-python",
   "name": "python",
   "nbconvert_exporter": "python",
   "pygments_lexer": "ipython3",
   "version": "3.7.0"
  }
 },
 "nbformat": 4,
 "nbformat_minor": 2
}
