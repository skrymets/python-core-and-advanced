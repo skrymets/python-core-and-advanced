{
 "cells": [
  {
   "cell_type": "code",
   "execution_count": 7,
   "metadata": {},
   "outputs": [],
   "source": [
    "import sys\n",
    "import logging\n",
    "\n",
    "logging.basicConfig(level=logging.DEBUG)\n",
    "logger = logging.getLogger(__name__)"
   ]
  },
  {
   "cell_type": "code",
   "execution_count": 15,
   "metadata": {},
   "outputs": [
    {
     "name": "stdout",
     "output_type": "stream",
     "text": [
      "\n"
     ]
    }
   ],
   "source": [
    "f = None\n",
    "\n",
    "import os\n",
    "\n",
    "file_name = \"data.txt\"\n",
    "\n",
    "## r   w   a   r+   w+   a+   x\n",
    "## rb  wb  ab  r+b  w+b  a+b  xb\n",
    "\n",
    "mode = 'r' if os.path.isfile(file_name) else 'w+'\n",
    "\n",
    "try:\n",
    "    f = open(file_name, mode)\n",
    "    content = f.read()\n",
    "    print(content)\n",
    "except Exception as e:\n",
    "    logger.error(e)\n",
    "    \n",
    "finally:\n",
    "    if f: f.close()\n",
    "        \n"
   ]
  },
  {
   "cell_type": "code",
   "execution_count": 35,
   "metadata": {},
   "outputs": [
    {
     "name": "stdout",
     "output_type": "stream",
     "text": [
      "('title': 'Python Basics', 'progress': 0.75, 'score': 100)\n"
     ]
    }
   ],
   "source": [
    "import pickle\n",
    "\n",
    "class SimpleCourseData(object):\n",
    "    \n",
    "    def __init__(self, title, progress, score):\n",
    "        self.title = title\n",
    "        self.progress = progress\n",
    "        self.score = score\n",
    "        \n",
    "    def __str__(self):\n",
    "        return \"('title': '{}', 'progress': {}, 'score': {})\".format(self.title, self.progress, self.score)\n",
    "\n",
    "\n",
    "class CourseData(object):\n",
    "    \n",
    "    def __init__(self, title, progress, score):\n",
    "        self.__title = title\n",
    "        self.__progress = progress\n",
    "        self.__score = progress\n",
    "\n",
    "    @property\n",
    "    def title(self):\n",
    "        return self.__title\n",
    "    \n",
    "    @property\n",
    "    def progress(self):\n",
    "        return self.__progress\n",
    "    \n",
    "    @property\n",
    "    def score(self):\n",
    "        return self.__score\n",
    "    \n",
    "cd = SimpleCourseData(\"Python Basics\", 0.75, 100)\n",
    "    \n",
    "with open(\"data.txt\", 'wb') as f:\n",
    "    pickle.dump(cd, f)\n",
    "\n",
    "\n",
    "loaded_data = None \n",
    "\n",
    "with open(\"data.txt\", 'rb') as f:\n",
    "    loaded_data = pickle.load(f)\n",
    "\n",
    "print(loaded_data)\n",
    "    "
   ]
  },
  {
   "cell_type": "code",
   "execution_count": 30,
   "metadata": {},
   "outputs": [
    {
     "name": "stdout",
     "output_type": "stream",
     "text": [
      "{'__module__': '__main__', 'progress': <property object at 0x000002B1198804F8>, 'score': <property object at 0x000002B119880548>, 'title': <property object at 0x000002B1198804A8>, '__doc__': None, '__weakref__': <attribute '__weakref__' of 'CourseData' objects>, '__dict__': <attribute '__dict__' of 'CourseData' objects>, '__init__': <function CourseData.__init__ at 0x000002B11987D840>}\n"
     ]
    }
   ],
   "source": [
    "print(CourseData.__dict__)"
   ]
  },
  {
   "cell_type": "code",
   "execution_count": 31,
   "metadata": {},
   "outputs": [
    {
     "name": "stdout",
     "output_type": "stream",
     "text": [
      "{'__module__': '__main__', '__slotnames__': [], '__doc__': None, '__weakref__': <attribute '__weakref__' of 'SimpleCourseData' objects>, '__dict__': <attribute '__dict__' of 'SimpleCourseData' objects>, '__init__': <function SimpleCourseData.__init__ at 0x000002B11987D8C8>}\n"
     ]
    }
   ],
   "source": [
    "print(SimpleCourseData.__dict__)"
   ]
  },
  {
   "cell_type": "code",
   "execution_count": null,
   "metadata": {},
   "outputs": [],
   "source": []
  }
 ],
 "metadata": {
  "kernelspec": {
   "display_name": "Python 3",
   "language": "python",
   "name": "python3"
  },
  "language_info": {
   "codemirror_mode": {
    "name": "ipython",
    "version": 3
   },
   "file_extension": ".py",
   "mimetype": "text/x-python",
   "name": "python",
   "nbconvert_exporter": "python",
   "pygments_lexer": "ipython3",
   "version": "3.5.2"
  }
 },
 "nbformat": 4,
 "nbformat_minor": 2
}
