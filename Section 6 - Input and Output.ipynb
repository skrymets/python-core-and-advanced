{
 "cells": [
  {
   "cell_type": "markdown",
   "metadata": {},
   "source": [
    "# Output"
   ]
  },
  {
   "cell_type": "code",
   "execution_count": 1,
   "metadata": {},
   "outputs": [
    {
     "name": "stdout",
     "output_type": "stream",
     "text": [
      "\n"
     ]
    }
   ],
   "source": [
    "print()"
   ]
  },
  {
   "cell_type": "code",
   "execution_count": 2,
   "metadata": {},
   "outputs": [
    {
     "name": "stdout",
     "output_type": "stream",
     "text": [
      "Hello\n",
      "\n",
      "World\n"
     ]
    }
   ],
   "source": [
    "print(\"Hello\")\n",
    "print()\n",
    "print(\"World\")"
   ]
  },
  {
   "cell_type": "code",
   "execution_count": 3,
   "metadata": {},
   "outputs": [
    {
     "name": "stdout",
     "output_type": "stream",
     "text": [
      "10 20\n"
     ]
    }
   ],
   "source": [
    "a, b = 10, 20\n",
    "print(a, b)"
   ]
  },
  {
   "cell_type": "code",
   "execution_count": 4,
   "metadata": {},
   "outputs": [
    {
     "name": "stdout",
     "output_type": "stream",
     "text": [
      "10..20\n"
     ]
    }
   ],
   "source": [
    "print(a, b, sep=\"..\")"
   ]
  },
  {
   "cell_type": "markdown",
   "metadata": {},
   "source": [
    "## Formatting"
   ]
  },
  {
   "cell_type": "code",
   "execution_count": 6,
   "metadata": {},
   "outputs": [
    {
     "name": "stdout",
     "output_type": "stream",
     "text": [
      " Name is:  Sergii  \n",
      "Score is:  198.3\n"
     ]
    }
   ],
   "source": [
    "name='Sergii'\n",
    "score=198.3\n",
    "\n",
    "print(\" Name is: \", name, \" \\nScore is: \", score)"
   ]
  },
  {
   "cell_type": "code",
   "execution_count": 29,
   "metadata": {},
   "outputs": [
    {
     "name": "stdout",
     "output_type": "stream",
     "text": [
      "00001  Name is: Sergii \n",
      "00002 Score is: 198.30\n"
     ]
    }
   ],
   "source": [
    "print(\"%05i  Name is: %s \\n%05i Score is: %0.2f\" % (1, name, 2, score))"
   ]
  },
  {
   "cell_type": "code",
   "execution_count": 38,
   "metadata": {},
   "outputs": [
    {
     "name": "stdout",
     "output_type": "stream",
     "text": [
      "00001  Name is: Sergii \n",
      "00002 Score is: 198.30\n"
     ]
    }
   ],
   "source": [
    "print(\"{0:05}  Name is: {1} \\n{2:05} Score is: {3:0.2f}\".format(1, name, 2, score))"
   ]
  },
  {
   "cell_type": "code",
   "execution_count": 40,
   "metadata": {},
   "outputs": [
    {
     "name": "stdout",
     "output_type": "stream",
     "text": [
      "00001  Name is: Sergii \n",
      "00002 Score is: 198.30\n"
     ]
    }
   ],
   "source": [
    "print(\"{0:05}  Name is: {nm} \\n{1:05} Score is: {sc:0.2f}\".format(1, 2, nm=name, sc=score))"
   ]
  },
  {
   "cell_type": "markdown",
   "metadata": {},
   "source": [
    "# Input"
   ]
  },
  {
   "cell_type": "code",
   "execution_count": 45,
   "metadata": {},
   "outputs": [
    {
     "name": "stdout",
     "output_type": "stream",
     "text": [
      "Hello!\n",
      "User input is: Hello!\n"
     ]
    }
   ],
   "source": [
    "s = input()\n",
    "print(\"User input is: %s\" % (s,))"
   ]
  },
  {
   "cell_type": "code",
   "execution_count": 47,
   "metadata": {},
   "outputs": [
    {
     "name": "stdout",
     "output_type": "stream",
     "text": [
      "What is your name?: Sergii\n",
      "Hello, Sergii!\n"
     ]
    }
   ],
   "source": [
    "s = input(\"What is your name?: \")\n",
    "print(\"Hello, %s!\" % (s,))"
   ]
  },
  {
   "cell_type": "code",
   "execution_count": 55,
   "metadata": {},
   "outputs": [
    {
     "name": "stdout",
     "output_type": "stream",
     "text": [
      "['This', 'is', 'a', 'string', 'that', 'is', 'going', 'to', 'be', 'splitted']\n"
     ]
    }
   ],
   "source": [
    "lst = \"\"\"This is a string that is going to be splitted\"\"\".split()\n",
    "print(lst)"
   ]
  },
  {
   "cell_type": "code",
   "execution_count": 52,
   "metadata": {},
   "outputs": [
    {
     "name": "stdout",
     "output_type": "stream",
     "text": [
      "Enter three numbers: 1 2 3\n",
      "<class 'list'> ['1', '2', '3']\n",
      "Enter three numbers: 1,2,3\n",
      "<class 'list'> ['1', '2', '3']\n"
     ]
    }
   ],
   "source": [
    "lst = input(\"Enter three numbers: \").split()\n",
    "print(type(lst), lst)\n",
    "\n",
    "lst = input(\"Enter three numbers: \").split(',')\n",
    "print(type(lst), lst)"
   ]
  },
  {
   "cell_type": "code",
   "execution_count": 56,
   "metadata": {},
   "outputs": [
    {
     "name": "stdout",
     "output_type": "stream",
     "text": [
      "Enter three numbers: 1 2 3\n",
      "[1, 2, 3]\n"
     ]
    }
   ],
   "source": [
    "lst = [int(x) for x in input(\"Enter three numbers: \").split()]\n",
    "print(lst)"
   ]
  },
  {
   "cell_type": "code",
   "execution_count": 57,
   "metadata": {},
   "outputs": [
    {
     "name": "stdout",
     "output_type": "stream",
     "text": [
      "Enter an integer  number:346\n",
      "346 is not a prime number\n"
     ]
    }
   ],
   "source": [
    "def prime(num):\n",
    "    if num == 1:\n",
    "        return True\n",
    "\n",
    "    for i in range(2, num):\n",
    "        if num % i == 0:\n",
    "            return False\n",
    "        else:\n",
    "            continue\n",
    "\n",
    "    return True\n",
    "\n",
    "x = int(input(\"Enter an integer  number:\"))\n",
    "\n",
    "print(\"%i is %sa prime number\" % (x, '' if prime(x) else 'not '))"
   ]
  },
  {
   "cell_type": "code",
   "execution_count": null,
   "metadata": {},
   "outputs": [],
   "source": []
  }
 ],
 "metadata": {
  "kernelspec": {
   "display_name": "Python 3",
   "language": "python",
   "name": "python3"
  },
  "language_info": {
   "codemirror_mode": {
    "name": "ipython",
    "version": 3
   },
   "file_extension": ".py",
   "mimetype": "text/x-python",
   "name": "python",
   "nbconvert_exporter": "python",
   "pygments_lexer": "ipython3",
   "version": "3.5.2"
  }
 },
 "nbformat": 4,
 "nbformat_minor": 2
}
