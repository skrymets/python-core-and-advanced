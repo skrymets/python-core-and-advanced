{
 "cells": [
  {
   "cell_type": "code",
   "execution_count": 8,
   "metadata": {},
   "outputs": [
    {
     "name": "stdout",
     "output_type": "stream",
     "text": [
      "[0, 1, 2, 3, 4, 5, 6, 7, 8, 9]\n",
      "[1, 3, 5, 7, 9]\n"
     ]
    }
   ],
   "source": [
    "# l = [expression for item in iterable if condition]\n",
    "\n",
    "lst = [a for a in range(10)]\n",
    "print(lst)\n",
    "\n",
    "#  Is the same as: \n",
    "# \n",
    "#  lst=[]\n",
    "#  for i in range(10):\n",
    "#      lst.append(i)\n",
    "#  print(lst)\n",
    "\n",
    "lst = [a for a in range(10) if a % 2 == 1]\n",
    "print(lst)"
   ]
  },
  {
   "cell_type": "code",
   "execution_count": 11,
   "metadata": {},
   "outputs": [],
   "source": [
    "from functools import reduce"
   ]
  },
  {
   "cell_type": "code",
   "execution_count": 17,
   "metadata": {},
   "outputs": [
    {
     "name": "stdout",
     "output_type": "stream",
     "text": [
      "120\n"
     ]
    }
   ],
   "source": [
    "lst = [x for x in range(1, 6)]\n",
    "\n",
    "print(reduce(lambda x, y: x*y, lst))"
   ]
  },
  {
   "cell_type": "code",
   "execution_count": 20,
   "metadata": {},
   "outputs": [
    {
     "name": "stdout",
     "output_type": "stream",
     "text": [
      "[3.0, 7.0, 12.0, 18.0, 25.0]\n",
      "[3.0, 7.0, 12.0, 18.0, 25.0]\n"
     ]
    }
   ],
   "source": [
    "aa = [x for x in range(1, 6)]\n",
    "bb = [x*0.5 for x in range(6, 11)]\n",
    "\n",
    "cc = [x * y for x , y in zip(aa , bb)]\n",
    "print(cc)\n",
    "\n",
    "dd = [aa[i] * bb[i] for i in range(len(aa))]\n",
    "print(dd)\n",
    "\n",
    "assert cc == dd"
   ]
  },
  {
   "cell_type": "code",
   "execution_count": 25,
   "metadata": {},
   "outputs": [
    {
     "name": "stdout",
     "output_type": "stream",
     "text": [
      "[1.0, 2.0, 3.0, 4.0, 5.0]\n",
      "[3.0, 3.5, 4.0, 4.5, 5.0]\n",
      "[3.0, 4.0, 5.0]\n"
     ]
    }
   ],
   "source": [
    "aa = [float(x) for x in range(1, 6)]\n",
    "bb = [x*0.5 for x in range(6, 11)]\n",
    "\n",
    "print(aa)\n",
    "print(bb)\n",
    "\n",
    "cc = [i for i in aa if i in bb]\n",
    "\n",
    "print(cc)"
   ]
  },
  {
   "cell_type": "code",
   "execution_count": 22,
   "metadata": {},
   "outputs": [
    {
     "name": "stdout",
     "output_type": "stream",
     "text": [
      "[1, 2, 3, 4, 5]\n",
      "[3.0, 3.5, 4.0, 4.5, 5.0]\n"
     ]
    }
   ],
   "source": []
  },
  {
   "cell_type": "code",
   "execution_count": null,
   "metadata": {},
   "outputs": [],
   "source": []
  }
 ],
 "metadata": {
  "kernelspec": {
   "display_name": "Python 3",
   "language": "python",
   "name": "python3"
  },
  "language_info": {
   "codemirror_mode": {
    "name": "ipython",
    "version": 3
   },
   "file_extension": ".py",
   "mimetype": "text/x-python",
   "name": "python",
   "nbconvert_exporter": "python",
   "pygments_lexer": "ipython3",
   "version": "3.5.2"
  }
 },
 "nbformat": 4,
 "nbformat_minor": 2
}
