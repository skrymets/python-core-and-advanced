{
 "cells": [
  {
   "cell_type": "markdown",
   "metadata": {},
   "source": [
    "# Functions"
   ]
  },
  {
   "cell_type": "code",
   "execution_count": 1,
   "metadata": {},
   "outputs": [
    {
     "name": "stdout",
     "output_type": "stream",
     "text": [
      "Average of 12.00 and 18.00 is 15.00\n"
     ]
    }
   ],
   "source": [
    "def average(a, b):\n",
    "    return (a + b)/2\n",
    "\n",
    "print(\"Average of %.2f and %.2f is %.2f\" % (12, 18, average(12, 18)))"
   ]
  },
  {
   "cell_type": "markdown",
   "metadata": {},
   "source": [
    "## Returning multiple values"
   ]
  },
  {
   "cell_type": "code",
   "execution_count": 2,
   "metadata": {},
   "outputs": [
    {
     "name": "stdout",
     "output_type": "stream",
     "text": [
      "<class 'tuple'> (8, -2, 15, 0.6)\n"
     ]
    }
   ],
   "source": [
    "def calc(a, b): \n",
    "    return a + b, a - b, a * b, a / b\n",
    "\n",
    "data = calc(3, 5)\n",
    "print(type(data), data)"
   ]
  },
  {
   "cell_type": "markdown",
   "metadata": {},
   "source": [
    "## Global Scope"
   ]
  },
  {
   "cell_type": "code",
   "execution_count": 3,
   "metadata": {},
   "outputs": [
    {
     "name": "stdout",
     "output_type": "stream",
     "text": [
      "20\n"
     ]
    }
   ],
   "source": [
    "number = 10\n",
    "\n",
    "def display():\n",
    "    number = 20\n",
    "    print(number)\n",
    "    \n",
    "display()"
   ]
  },
  {
   "cell_type": "code",
   "execution_count": 4,
   "metadata": {},
   "outputs": [
    {
     "name": "stdout",
     "output_type": "stream",
     "text": [
      "10\n"
     ]
    }
   ],
   "source": [
    "number = 10\n",
    "\n",
    "def display():\n",
    "    global number\n",
    "    print(number)\n",
    "    number = 20\n",
    "    \n",
    "display()"
   ]
  },
  {
   "cell_type": "code",
   "execution_count": 5,
   "metadata": {},
   "outputs": [
    {
     "name": "stdout",
     "output_type": "stream",
     "text": [
      "Errpr: func() takes 0 positional arguments but 1 was given\n"
     ]
    }
   ],
   "source": [
    "def func():\n",
    "    pass\n",
    "\n",
    "try:\n",
    "    func(10)\n",
    "except TypeError as error:\n",
    "    print(\"Errpr: %s\" % error)"
   ]
  },
  {
   "cell_type": "markdown",
   "metadata": {},
   "source": [
    "## Function as the first-class object"
   ]
  },
  {
   "cell_type": "code",
   "execution_count": 6,
   "metadata": {},
   "outputs": [
    {
     "name": "stdout",
     "output_type": "stream",
     "text": [
      "Data: Some data\n"
     ]
    }
   ],
   "source": [
    "\n",
    "def func():\n",
    "    return \"Some data\"\n",
    "\n",
    "def display(data):\n",
    "    print(\"Data: %s\" % data())\n",
    "    \n",
    "f = func\n",
    "\n",
    "display(f)\n"
   ]
  },
  {
   "cell_type": "markdown",
   "metadata": {},
   "source": [
    "## Wrapping functions"
   ]
  },
  {
   "cell_type": "code",
   "execution_count": 7,
   "metadata": {},
   "outputs": [
    {
     "name": "stdout",
     "output_type": "stream",
     "text": [
      "<class 'function'> -- Original code -- <function func at 0x0780CED0>\n",
      "<class 'function'> -- Wrapped code -- <function wrapper.<locals>.sub_func at 0x07832300>\n"
     ]
    }
   ],
   "source": [
    "def func():\n",
    "    return \"-- Original code --\"\n",
    "\n",
    "def wrapper():\n",
    "    def sub_func():\n",
    "        return \"-- Wrapped code --\"\n",
    "    \n",
    "    return sub_func\n",
    "    \n",
    "print(type(func), func(), func)\n",
    "\n",
    "func = wrapper()\n",
    "\n",
    "print(type(func), func(), func)"
   ]
  },
  {
   "cell_type": "markdown",
   "metadata": {},
   "source": [
    "## Recursion"
   ]
  },
  {
   "cell_type": "code",
   "execution_count": 8,
   "metadata": {},
   "outputs": [
    {
     "name": "stdout",
     "output_type": "stream",
     "text": [
      "3! = 6\n",
      "7! = 5040\n",
      "15! = 1307674368000\n"
     ]
    }
   ],
   "source": [
    "def fact(n):\n",
    "    return 1 if n == 0 else n * fact(n - 1)\n",
    "\n",
    "print(\"3! =\", fact(3))\n",
    "print(\"7! =\", fact(7))\n",
    "print(\"15! =\", fact(15))"
   ]
  },
  {
   "cell_type": "markdown",
   "metadata": {},
   "source": [
    "## Keyword arguments"
   ]
  },
  {
   "cell_type": "code",
   "execution_count": 9,
   "metadata": {},
   "outputs": [
    {
     "name": "stdout",
     "output_type": "stream",
     "text": [
      "15.0\n",
      "15.0\n"
     ]
    }
   ],
   "source": [
    "def average(a, b):\n",
    "    return (a + b) / 2 \n",
    "\n",
    "print(average(a = 12, b = 18))\n",
    "print(average(b = 18, a = 12))"
   ]
  },
  {
   "cell_type": "code",
   "execution_count": 10,
   "metadata": {},
   "outputs": [],
   "source": [
    "import logging\n",
    "## https://codeguida.com/post/1415\n",
    "\n",
    "## https://docs.python.org/3/library/logging.html#logrecord-attributes\n",
    "logFormatter = '%(asctime)s - [%(levelname)s] - %(name)s:%(funcName)s:%(lineno)d - %(my_context)s - %(message)s'\n",
    "logging.basicConfig(format=logFormatter, level=logging.DEBUG)\n",
    "\n",
    "logger = logging.getLogger(__name__)"
   ]
  },
  {
   "cell_type": "code",
   "execution_count": 13,
   "metadata": {},
   "outputs": [
    {
     "name": "stderr",
     "output_type": "stream",
     "text": [
      "2018-08-29 15:08:31,507 - [ERROR] - __main__:average:8 - {'user': 'me', 'context': 'context_42'} - 'a'\n"
     ]
    },
    {
     "name": "stdout",
     "output_type": "stream",
     "text": [
      "15.0\n",
      "None\n"
     ]
    }
   ],
   "source": [
    "def average(**kwdargs):\n",
    "    try:\n",
    "        a = kwdargs['a']\n",
    "        b = kwdargs['b']\n",
    "        \n",
    "        return (a + b) / 2\n",
    "    except KeyError as error:\n",
    "        logger.error(error, extra={'my_context': {'user':'me', 'context':'context_42'}})\n",
    "        return None\n",
    "\n",
    "\n",
    "print(average(b = 18, a = 12))\n",
    "\n",
    "print(average(c = 12, b = 18))"
   ]
  },
  {
   "cell_type": "markdown",
   "metadata": {},
   "source": [
    "# Lambdas"
   ]
  },
  {
   "cell_type": "code",
   "execution_count": 18,
   "metadata": {},
   "outputs": [
    {
     "name": "stdout",
     "output_type": "stream",
     "text": [
      "<class 'function'> -- <function <lambda> at 0x0780CBB8> -- 4\n"
     ]
    }
   ],
   "source": [
    "f = lambda x : x*x\n",
    "print(type(f), '--', f, '--', f(2))"
   ]
  },
  {
   "cell_type": "code",
   "execution_count": 28,
   "metadata": {},
   "outputs": [
    {
     "name": "stdout",
     "output_type": "stream",
     "text": [
      "[0, 5, 10, 15, 20, 25, 30, 35, 40, 45, 50]\n"
     ]
    }
   ],
   "source": [
    "lst = list(map(lambda x: x*5, [x for x in range(11)]))\n",
    "\n",
    "print(lst)"
   ]
  },
  {
   "cell_type": "code",
   "execution_count": 29,
   "metadata": {},
   "outputs": [
    {
     "name": "stdout",
     "output_type": "stream",
     "text": [
      "[0, 5, 10, 15, 20, 25, 30]\n"
     ]
    }
   ],
   "source": [
    "lst_1 = list(filter(lambda x: x < 31, lst))\n",
    "\n",
    "print(lst_1)"
   ]
  },
  {
   "cell_type": "code",
   "execution_count": null,
   "metadata": {},
   "outputs": [],
   "source": []
  }
 ],
 "metadata": {
  "kernelspec": {
   "display_name": "Python 3",
   "language": "python",
   "name": "python3"
  },
  "language_info": {
   "codemirror_mode": {
    "name": "ipython",
    "version": 3
   },
   "file_extension": ".py",
   "mimetype": "text/x-python",
   "name": "python",
   "nbconvert_exporter": "python",
   "pygments_lexer": "ipython3",
   "version": "3.7.0"
  }
 },
 "nbformat": 4,
 "nbformat_minor": 2
}
